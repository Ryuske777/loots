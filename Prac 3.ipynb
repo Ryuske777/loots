{
 "cells": [
  {
   "cell_type": "code",
   "execution_count": 1,
   "id": "de6e89fe-4343-4212-9bf1-463102d45efc",
   "metadata": {},
   "outputs": [
    {
     "name": "stdout",
     "output_type": "stream",
     "text": [
      "1\n",
      "3\n",
      "2\n",
      "2\n",
      "1\n"
     ]
    }
   ],
   "source": [
    "#checked and working\n",
    "def leven(x, y):\n",
    "    n = len(x)\n",
    "    m = len(y)\n",
    "    A = [[i+j for j in range(m+1)] for i in range(n+1)]\n",
    "    for i in range(n):\n",
    "        for j in range(m):\n",
    "            A[i+1][j+1] = min(\n",
    "                A[i][j+1] + 1,  # insert\n",
    "                A[i+1][j] + 1,  # replace\n",
    "                A[i][j] + int(x[i] != y[j])  # delete\n",
    "            )\n",
    "    return A[n][m]\n",
    "\n",
    "print(leven(\"brap\", \"rap\"))\n",
    "print(leven(\"trial\", \"try\"))\n",
    "print(leven(\"horse\", \"force\"))\n",
    "print(leven(\"abcd\", \"aecdb\"))\n",
    "print(leven(\"monkey\", \"money\"))\n"
   ]
  },
  {
   "cell_type": "code",
   "execution_count": null,
   "id": "7b81a5e6-f5cd-4fa7-b248-016b61f1e1cf",
   "metadata": {},
   "outputs": [],
   "source": []
  },
  {
   "cell_type": "code",
   "execution_count": null,
   "id": "c3cb4eff-2191-4b3a-81fb-ecfa8ab345d2",
   "metadata": {},
   "outputs": [],
   "source": []
  }
 ],
 "metadata": {
  "kernelspec": {
   "display_name": "Python 3 (ipykernel)",
   "language": "python",
   "name": "python3"
  },
  "language_info": {
   "codemirror_mode": {
    "name": "ipython",
    "version": 3
   },
   "file_extension": ".py",
   "mimetype": "text/x-python",
   "name": "python",
   "nbconvert_exporter": "python",
   "pygments_lexer": "ipython3",
   "version": "3.12.2"
  }
 },
 "nbformat": 4,
 "nbformat_minor": 5
}
