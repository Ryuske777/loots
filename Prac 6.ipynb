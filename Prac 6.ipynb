{
 "cells": [
  {
   "cell_type": "code",
   "execution_count": 1,
   "id": "fd3f8dc2-c9b5-4ed9-8112-cd4882c26dc7",
   "metadata": {},
   "outputs": [
    {
     "name": "stdout",
     "output_type": "stream",
     "text": [
      "Authority Scores: {1: 0.1401980134505117, 2: 0.4299009932747443, 3: 0.4299009932747443, 4: -1.9592469342473969e-16, 5: -0.0}\n",
      "Hub Scores: {1: 1.7183391929602184e-16, 2: 0.12295935600364621, 3: 0.12295935600364626, 4: 0.7540812879927078, 5: -3.4366783859204373e-16}\n"
     ]
    }
   ],
   "source": [
    "#checked and working\n",
    "#HITS Algorithm\n",
    "import networkx as nx\n",
    "# Step 2: Create a graph and add edges\n",
    "G = nx.DiGraph()\n",
    "G.add_edges_from([(1, 2), (1, 3), (2, 4), (3, 4), (4, 5)])\n",
    "\n",
    "# Step 3: Calculate the HITS scores\n",
    "authority_scores, hub_scores = nx.hits(G)\n",
    "\n",
    "# Step 4: Print the scores\n",
    "print(\"Authority Scores:\", authority_scores)\n",
    "print(\"Hub Scores:\",hub_scores)"
   ]
  },
  {
   "cell_type": "code",
   "execution_count": null,
   "id": "62876a83-22e0-48f7-9076-7c195e95f3b2",
   "metadata": {},
   "outputs": [],
   "source": []
  },
  {
   "cell_type": "code",
   "execution_count": null,
   "id": "41e819fe-306a-444a-a4d5-fadf32c4f2a5",
   "metadata": {},
   "outputs": [],
   "source": []
  }
 ],
 "metadata": {
  "kernelspec": {
   "display_name": "Python 3 (ipykernel)",
   "language": "python",
   "name": "python3"
  },
  "language_info": {
   "codemirror_mode": {
    "name": "ipython",
    "version": 3
   },
   "file_extension": ".py",
   "mimetype": "text/x-python",
   "name": "python",
   "nbconvert_exporter": "python",
   "pygments_lexer": "ipython3",
   "version": "3.12.2"
  }
 },
 "nbformat": 4,
 "nbformat_minor": 5
}
