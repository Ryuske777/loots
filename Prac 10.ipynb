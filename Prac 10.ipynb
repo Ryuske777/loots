{
 "cells": [
  {
   "cell_type": "code",
   "execution_count": 1,
   "id": "56379eca-c536-41e2-b34c-6fc7f95c073d",
   "metadata": {},
   "outputs": [
    {
     "name": "stdout",
     "output_type": "stream",
     "text": [
      "Topic Specific Pagerank:\n",
      "Node : 1 - PageRank : 0.3509\n",
      "Node : 2 - PageRank : 0.3509\n",
      "Node : 3 - PageRank : 0.2982\n"
     ]
    }
   ],
   "source": [
    "#checked and working\n",
    "import xml.etree.ElementTree as ET\n",
    "import networkx as nx\n",
    "def parse_xml(xml_text):\n",
    "    root = ET.fromstring(xml_text)\n",
    "    return root\n",
    "def generate_web_graph(xml_root):\n",
    "    G = nx.DiGraph()\n",
    "    for page in xml_root.findall('.//page'):\n",
    "        page_id = page.find('id').text\n",
    "        G.add_node(page_id)\n",
    "\n",
    "        links = page.findall('.//link')\n",
    "        for link in links:\n",
    "            target_page_id = link.text\n",
    "            G.add_edge(page_id, target_page_id)\n",
    "    return G\n",
    "def compute_topic_specific_pagerank(graph, topic_nodes, alpha=0.85, max_iter=100, tol=1e-6):\n",
    "    personalization = {node: 1.0 if node in topic_nodes else 0.0 for node in graph.nodes}\n",
    "    return nx.pagerank(graph, alpha=alpha, personalization=personalization, max_iter=max_iter, tol=tol)\n",
    "if __name__ == \"__main__\":\n",
    "    # Example XML text representing web pages and links\n",
    "    example_xml = '''\n",
    "    <webpage>\n",
    "    <page>\n",
    "    <id>1</id>\n",
    "    <link>2</link>\n",
    "    <link>3</link>\n",
    "    </page>\n",
    "    <page>\n",
    "    <id>2</id>\n",
    "    <link>1</link>\n",
    "    <link>3</link>\n",
    "    </page>\n",
    "    <page>\n",
    "    <id>3</id>\n",
    "    <link>1</link>\n",
    "    <link>2</link>\n",
    "    </page>\n",
    "    </webpage>\n",
    "    '''\n",
    "    # Parse XML\n",
    "    xml_root = parse_xml(example_xml)\n",
    "    # Generate web graph\n",
    "    web_graph = generate_web_graph(xml_root)\n",
    "    topic_specific_pagerank = compute_topic_specific_pagerank(web_graph, topic_nodes=['1', '2'])\n",
    "    # Print the results\n",
    "    print(\"Topic Specific Pagerank:\")\n",
    "    for node, score in sorted(topic_specific_pagerank.items(), key=lambda x: x[1], reverse=True):\n",
    "        print(f\"Node : {node} - PageRank : {score:.4f}\")\n"
   ]
  },
  {
   "cell_type": "code",
   "execution_count": null,
   "id": "833ed0a3-5dd3-430d-bef5-4e5b44ac3bb1",
   "metadata": {},
   "outputs": [],
   "source": []
  }
 ],
 "metadata": {
  "kernelspec": {
   "display_name": "Python 3 (ipykernel)",
   "language": "python",
   "name": "python3"
  },
  "language_info": {
   "codemirror_mode": {
    "name": "ipython",
    "version": 3
   },
   "file_extension": ".py",
   "mimetype": "text/x-python",
   "name": "python",
   "nbconvert_exporter": "python",
   "pygments_lexer": "ipython3",
   "version": "3.12.2"
  }
 },
 "nbformat": 4,
 "nbformat_minor": 5
}
