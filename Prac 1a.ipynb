{
 "cells": [
  {
   "cell_type": "code",
   "execution_count": 2,
   "id": "d50a90e5-99fe-476a-ab14-1af44e057a20",
   "metadata": {},
   "outputs": [
    {
     "name": "stdin",
     "output_type": "stream",
     "text": [
      "enter the binary number:  1001\n",
      "enter the binary number:  1100\n"
     ]
    },
    {
     "name": "stdout",
     "output_type": "stream",
     "text": [
      "Bitwise AND: 72\n",
      "Bitwise OR: 2029\n",
      "Bitwise XOR: 1957\n",
      "Bitwise NOT of a: -1100\n",
      "Bitwise NOT of b: -1100\n",
      "Bitwise Left Shift of a: (-2200, 2200)\n",
      "Bitwise Left Shift of b: (-2200, 2200)\n",
      "Bitwise Right Shift of a: (-550, 550)\n",
      "Bitwise Right Shift of b: (-550, 550)\n",
      "None\n"
     ]
    }
   ],
   "source": [
    "#checked and working\n",
    "def bitwise_operation(a,b):\n",
    " #bitwise AND\n",
    " bitwise_and_result = a&b\n",
    "\n",
    " #bitwise OR\n",
    " bitwise_or_result = a|b\n",
    "\n",
    " #bitwise XOR\n",
    " bitwise_xor_result = a^b\n",
    "\n",
    " #bitwise NOT\n",
    " bitwise_not_result = a=-b\n",
    "\n",
    " #bitwise Left Shift\n",
    " bitwise_left_shift_result = a<<1,b<<1\n",
    "\n",
    " #bitwise Right Shift\n",
    " bitwise_right_shift_result = a>>1,b>>1\n",
    " print(f\"Bitwise AND: {bitwise_and_result}\")\n",
    " print(f\"Bitwise OR: {bitwise_or_result}\")\n",
    " print(f\"Bitwise XOR: {bitwise_xor_result}\")\n",
    " print(f\"Bitwise NOT of a: {bitwise_not_result}\")\n",
    " print(f\"Bitwise NOT of b: {bitwise_not_result}\")\n",
    " print(f\"Bitwise Left Shift of a: {bitwise_left_shift_result}\")\n",
    " print(f\"Bitwise Left Shift of b: {bitwise_left_shift_result}\")\n",
    " print(f\"Bitwise Right Shift of a: {bitwise_right_shift_result}\")\n",
    " print(f\"Bitwise Right Shift of b: {bitwise_right_shift_result}\")\n",
    "\n",
    "a = int(input(\"enter the binary number: \"))\n",
    "b = int(input(\"enter the binary number: \"))\n",
    "print(bitwise_operation(a,b))"
   ]
  },
  {
   "cell_type": "code",
   "execution_count": null,
   "id": "dda1994e-42ca-4594-9406-2e25475ef02f",
   "metadata": {},
   "outputs": [],
   "source": []
  }
 ],
 "metadata": {
  "kernelspec": {
   "display_name": "Python 3 (ipykernel)",
   "language": "python",
   "name": "python3"
  },
  "language_info": {
   "codemirror_mode": {
    "name": "ipython",
    "version": 3
   },
   "file_extension": ".py",
   "mimetype": "text/x-python",
   "name": "python",
   "nbconvert_exporter": "python",
   "pygments_lexer": "ipython3",
   "version": "3.12.2"
  }
 },
 "nbformat": 4,
 "nbformat_minor": 5
}
