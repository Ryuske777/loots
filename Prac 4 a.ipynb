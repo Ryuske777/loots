{
 "cells": [
  {
   "cell_type": "code",
   "execution_count": 1,
   "id": "4f72d05c-2c5b-465a-832e-585fcd813889",
   "metadata": {},
   "outputs": [
    {
     "data": {
      "text/plain": [
       "0.4444444444444444"
      ]
     },
     "execution_count": 1,
     "metadata": {},
     "output_type": "execute_result"
    }
   ],
   "source": [
    "#checked and working\n",
    "#jaccard similarity\n",
    "def jaccard(d1, d2):\n",
    " wd1 = set(d1.lower().split())\n",
    " wd2 = set(d2.lower().split())\n",
    " intersection = wd1.intersection(wd2)\n",
    " union = wd1.union(wd2)\n",
    " return float(len(intersection))/len(union)\n",
    "d1 = \"Data is the new oil of digital economy\"\n",
    "d2 = \"Data is a new oil\"\n",
    "jaccard(d1, d2)"
   ]
  },
  {
   "cell_type": "code",
   "execution_count": null,
   "id": "d6be8769-96bc-42fb-8728-1bedf31ac1fd",
   "metadata": {},
   "outputs": [],
   "source": []
  },
  {
   "cell_type": "code",
   "execution_count": null,
   "id": "7a276b56-4b78-41e6-a127-e370b8940a67",
   "metadata": {},
   "outputs": [],
   "source": []
  }
 ],
 "metadata": {
  "kernelspec": {
   "display_name": "Python 3 (ipykernel)",
   "language": "python",
   "name": "python3"
  },
  "language_info": {
   "codemirror_mode": {
    "name": "ipython",
    "version": 3
   },
   "file_extension": ".py",
   "mimetype": "text/x-python",
   "name": "python",
   "nbconvert_exporter": "python",
   "pygments_lexer": "ipython3",
   "version": "3.12.2"
  }
 },
 "nbformat": 4,
 "nbformat_minor": 5
}
