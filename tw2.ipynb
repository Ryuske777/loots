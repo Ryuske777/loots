{
 "cells": [
  {
   "cell_type": "code",
   "execution_count": 1,
   "id": "c4b89aa8-de27-4c64-b7bc-35916032078b",
   "metadata": {},
   "outputs": [
    {
     "name": "stderr",
     "output_type": "stream",
     "text": [
      "C:\\Users\\panka\\AppData\\Local\\Temp\\ipykernel_28984\\3346889237.py:2: DeprecationWarning: \n",
      "Pyarrow will become a required dependency of pandas in the next major release of pandas (pandas 3.0),\n",
      "(to allow more performant data types, such as the Arrow string type, and better interoperability with other libraries)\n",
      "but was not found to be installed on your system.\n",
      "If this would cause problems for you,\n",
      "please provide us feedback at https://github.com/pandas-dev/pandas/issues/54466\n",
      "        \n",
      "  import pandas as pd\n",
      "Testing instances: 100%|███████████████████████████████████████████████████████████████| 77/77 [02:00<00:00,  1.57s/it]\n"
     ]
    }
   ],
   "source": [
    "#checked and working and taken another username for testing\n",
    "import pandas as pd\n",
    "from ntscraper import Nitter\n",
    "scraper=Nitter()"
   ]
  },
  {
   "cell_type": "code",
   "execution_count": 2,
   "id": "52955f5f-6461-41d4-9e5b-d0da4ae3e2b1",
   "metadata": {},
   "outputs": [
    {
     "name": "stdout",
     "output_type": "stream",
     "text": [
      "05-Apr-24 23:08:48 - No instance specified, using random instance https://nitter.privacydev.net\n",
      "05-Apr-24 23:08:53 - Current stats for narendramodi: 5 tweets, 0 threads...\n"
     ]
    },
    {
     "data": {
      "text/plain": [
       "{'tweets': [{'link': 'https://twitter.com/narendramodi/status/1776203429423042721#m',\n",
       "   'text': 'Delighted to interact with @BJP4Karnataka Karyakartas. Their determination and perseverance is praiseworthy. https://twitter.com/i/broadcasts/1MnGnMmZrPwKO',\n",
       "   'user': {'name': 'Narendra Modi',\n",
       "    'username': '@narendramodi',\n",
       "    'profile_id': '1700051019525488640',\n",
       "    'avatar': 'https://pbs.twimg.com/profile_images/1700051019525488640/VRqy0bTE_bigger.jpg'},\n",
       "   'date': 'Apr 5, 2024 · 11:01 AM UTC',\n",
       "   'is-retweet': False,\n",
       "   'is-pinned': False,\n",
       "   'external-link': '',\n",
       "   'replying-to': [],\n",
       "   'quoted-post': {},\n",
       "   'stats': {'comments': 452, 'retweets': 2199, 'quotes': 44, 'likes': 7839},\n",
       "   'pictures': [],\n",
       "   'videos': [],\n",
       "   'gifs': []},\n",
       "  {'link': 'https://twitter.com/narendramodi/status/1776202224189804720#m',\n",
       "   'text': 'चूरू से देवेंद्र झाझरिया का भाजपा उम्मीदवार बनना इस बात का प्रतीक है कि खेल जगत में भारत का मान-सम्मान बढ़ाने वाले अपने बेटे-बेटियों को देश कभी भूलने वाला नहीं है।',\n",
       "   'user': {'name': 'Narendra Modi',\n",
       "    'username': '@narendramodi',\n",
       "    'profile_id': '1700051019525488640',\n",
       "    'avatar': 'https://pbs.twimg.com/profile_images/1700051019525488640/VRqy0bTE_bigger.jpg'},\n",
       "   'date': 'Apr 5, 2024 · 10:56 AM UTC',\n",
       "   'is-retweet': False,\n",
       "   'is-pinned': False,\n",
       "   'external-link': '',\n",
       "   'replying-to': [],\n",
       "   'quoted-post': {},\n",
       "   'stats': {'comments': 507, 'retweets': 3337, 'quotes': 48, 'likes': 15304},\n",
       "   'pictures': [],\n",
       "   'videos': ['https://video.twimg.com/amplify_video/1776164403357872128/vid/avc1/1280x720/NEHREhIankl2FFRi.mp4?tag=14'],\n",
       "   'gifs': []},\n",
       "  {'link': 'https://twitter.com/narendramodi/status/1776202193994981538#m',\n",
       "   'text': 'कांग्रेस और इंडी गठबंधन ने गरीब, दलित और वंचित समुदायों के हमारे भाई-बहनों की हमेशा उपेक्षा की है, इसे इन चुनावों में भी याद रखना है।',\n",
       "   'user': {'name': 'Narendra Modi',\n",
       "    'username': '@narendramodi',\n",
       "    'profile_id': '1700051019525488640',\n",
       "    'avatar': 'https://pbs.twimg.com/profile_images/1700051019525488640/VRqy0bTE_bigger.jpg'},\n",
       "   'date': 'Apr 5, 2024 · 10:56 AM UTC',\n",
       "   'is-retweet': False,\n",
       "   'is-pinned': False,\n",
       "   'external-link': '',\n",
       "   'replying-to': [],\n",
       "   'quoted-post': {},\n",
       "   'stats': {'comments': 211, 'retweets': 1644, 'quotes': 27, 'likes': 5014},\n",
       "   'pictures': [],\n",
       "   'videos': ['https://video.twimg.com/amplify_video/1776165624621748225/vid/avc1/1280x720/BfLrnk70ARn2fGY-.mp4?tag=14'],\n",
       "   'gifs': []},\n",
       "  {'link': 'https://twitter.com/narendramodi/status/1776202147966685529#m',\n",
       "   'text': 'जिस भ्रष्टाचार ने देश को बर्बाद किया है, उसके खिलाफ लड़ाई में जनता-जनार्दन मुझे अपना भरपूर आशीर्वाद दे रही है।',\n",
       "   'user': {'name': 'Narendra Modi',\n",
       "    'username': '@narendramodi',\n",
       "    'profile_id': '1700051019525488640',\n",
       "    'avatar': 'https://pbs.twimg.com/profile_images/1700051019525488640/VRqy0bTE_bigger.jpg'},\n",
       "   'date': 'Apr 5, 2024 · 10:56 AM UTC',\n",
       "   'is-retweet': False,\n",
       "   'is-pinned': False,\n",
       "   'external-link': '',\n",
       "   'replying-to': [],\n",
       "   'quoted-post': {},\n",
       "   'stats': {'comments': 491, 'retweets': 2189, 'quotes': 72, 'likes': 6921},\n",
       "   'pictures': [],\n",
       "   'videos': ['https://video.twimg.com/amplify_video/1776162349461704704/vid/avc1/1280x720/tsn8rNjWZB8aWlID.mp4?tag=14'],\n",
       "   'gifs': []},\n",
       "  {'link': 'https://twitter.com/narendramodi/status/1776202107378339941#m',\n",
       "   'text': 'कांग्रेस हमारी आस्था के अपमान पर इस कदर उतर आई है कि अब वो अपने नेताओं को राम मंदिर की चर्चा तक से बचने की सलाह दे रही है।',\n",
       "   'user': {'name': 'Narendra Modi',\n",
       "    'username': '@narendramodi',\n",
       "    'profile_id': '1700051019525488640',\n",
       "    'avatar': 'https://pbs.twimg.com/profile_images/1700051019525488640/VRqy0bTE_bigger.jpg'},\n",
       "   'date': 'Apr 5, 2024 · 10:55 AM UTC',\n",
       "   'is-retweet': False,\n",
       "   'is-pinned': False,\n",
       "   'external-link': '',\n",
       "   'replying-to': [],\n",
       "   'quoted-post': {},\n",
       "   'stats': {'comments': 223, 'retweets': 1811, 'quotes': 31, 'likes': 5828},\n",
       "   'pictures': [],\n",
       "   'videos': ['https://video.twimg.com/amplify_video/1776165518233276416/vid/avc1/1280x720/LabXY2d-lFVStYxb.mp4?tag=14'],\n",
       "   'gifs': []}],\n",
       " 'threads': []}"
      ]
     },
     "execution_count": 2,
     "metadata": {},
     "output_type": "execute_result"
    }
   ],
   "source": [
    "tweets=scraper.get_tweets('narendramodi',mode='user',number=5)\n",
    "tweets "
   ]
  },
  {
   "cell_type": "code",
   "execution_count": 3,
   "id": "11eee9ea-1577-4f3f-8bc7-c6139b2be3da",
   "metadata": {},
   "outputs": [
    {
     "data": {
      "text/plain": [
       "[['https://twitter.com/narendramodi/status/1776203429423042721#m',\n",
       "  'Delighted to interact with @BJP4Karnataka Karyakartas. Their determination and perseverance is praiseworthy. https://twitter.com/i/broadcasts/1MnGnMmZrPwKO',\n",
       "  'Apr 5, 2024 · 11:01 AM UTC',\n",
       "  7839],\n",
       " ['https://twitter.com/narendramodi/status/1776202224189804720#m',\n",
       "  'चूरू से देवेंद्र झाझरिया का भाजपा उम्मीदवार बनना इस बात का प्रतीक है कि खेल जगत में भारत का मान-सम्मान बढ़ाने वाले अपने बेटे-बेटियों को देश कभी भूलने वाला नहीं है।',\n",
       "  'Apr 5, 2024 · 10:56 AM UTC',\n",
       "  15304],\n",
       " ['https://twitter.com/narendramodi/status/1776202193994981538#m',\n",
       "  'कांग्रेस और इंडी गठबंधन ने गरीब, दलित और वंचित समुदायों के हमारे भाई-बहनों की हमेशा उपेक्षा की है, इसे इन चुनावों में भी याद रखना है।',\n",
       "  'Apr 5, 2024 · 10:56 AM UTC',\n",
       "  5014],\n",
       " ['https://twitter.com/narendramodi/status/1776202147966685529#m',\n",
       "  'जिस भ्रष्टाचार ने देश को बर्बाद किया है, उसके खिलाफ लड़ाई में जनता-जनार्दन मुझे अपना भरपूर आशीर्वाद दे रही है।',\n",
       "  'Apr 5, 2024 · 10:56 AM UTC',\n",
       "  6921],\n",
       " ['https://twitter.com/narendramodi/status/1776202107378339941#m',\n",
       "  'कांग्रेस हमारी आस्था के अपमान पर इस कदर उतर आई है कि अब वो अपने नेताओं को राम मंदिर की चर्चा तक से बचने की सलाह दे रही है।',\n",
       "  'Apr 5, 2024 · 10:55 AM UTC',\n",
       "  5828]]"
      ]
     },
     "execution_count": 3,
     "metadata": {},
     "output_type": "execute_result"
    }
   ],
   "source": [
    "final_tweets=[]\n",
    "for tweet in tweets['tweets']:\n",
    " data=[tweet['link'],tweet['text'],tweet['date'],tweet['stats']['likes']]\n",
    " final_tweets.append(data)\n",
    "final_tweets"
   ]
  },
  {
   "cell_type": "code",
   "execution_count": 4,
   "id": "f48cec8a-19fd-42a4-af5e-fed199f9bba7",
   "metadata": {},
   "outputs": [
    {
     "data": {
      "text/html": [
       "<div>\n",
       "<style scoped>\n",
       "    .dataframe tbody tr th:only-of-type {\n",
       "        vertical-align: middle;\n",
       "    }\n",
       "\n",
       "    .dataframe tbody tr th {\n",
       "        vertical-align: top;\n",
       "    }\n",
       "\n",
       "    .dataframe thead th {\n",
       "        text-align: right;\n",
       "    }\n",
       "</style>\n",
       "<table border=\"1\" class=\"dataframe\">\n",
       "  <thead>\n",
       "    <tr style=\"text-align: right;\">\n",
       "      <th></th>\n",
       "      <th>link</th>\n",
       "      <th>text</th>\n",
       "      <th>date</th>\n",
       "      <th>No</th>\n",
       "    </tr>\n",
       "  </thead>\n",
       "  <tbody>\n",
       "    <tr>\n",
       "      <th>0</th>\n",
       "      <td>https://twitter.com/narendramodi/status/177620...</td>\n",
       "      <td>Delighted to interact with @BJP4Karnataka Kary...</td>\n",
       "      <td>Apr 5, 2024 · 11:01 AM UTC</td>\n",
       "      <td>7839</td>\n",
       "    </tr>\n",
       "    <tr>\n",
       "      <th>1</th>\n",
       "      <td>https://twitter.com/narendramodi/status/177620...</td>\n",
       "      <td>चूरू से देवेंद्र झाझरिया का भाजपा उम्मीदवार बन...</td>\n",
       "      <td>Apr 5, 2024 · 10:56 AM UTC</td>\n",
       "      <td>15304</td>\n",
       "    </tr>\n",
       "    <tr>\n",
       "      <th>2</th>\n",
       "      <td>https://twitter.com/narendramodi/status/177620...</td>\n",
       "      <td>कांग्रेस और इंडी गठबंधन ने गरीब, दलित और वंचित...</td>\n",
       "      <td>Apr 5, 2024 · 10:56 AM UTC</td>\n",
       "      <td>5014</td>\n",
       "    </tr>\n",
       "    <tr>\n",
       "      <th>3</th>\n",
       "      <td>https://twitter.com/narendramodi/status/177620...</td>\n",
       "      <td>जिस भ्रष्टाचार ने देश को बर्बाद किया है, उसके ...</td>\n",
       "      <td>Apr 5, 2024 · 10:56 AM UTC</td>\n",
       "      <td>6921</td>\n",
       "    </tr>\n",
       "    <tr>\n",
       "      <th>4</th>\n",
       "      <td>https://twitter.com/narendramodi/status/177620...</td>\n",
       "      <td>कांग्रेस हमारी आस्था के अपमान पर इस कदर उतर आई...</td>\n",
       "      <td>Apr 5, 2024 · 10:55 AM UTC</td>\n",
       "      <td>5828</td>\n",
       "    </tr>\n",
       "  </tbody>\n",
       "</table>\n",
       "</div>"
      ],
      "text/plain": [
       "                                                link  \\\n",
       "0  https://twitter.com/narendramodi/status/177620...   \n",
       "1  https://twitter.com/narendramodi/status/177620...   \n",
       "2  https://twitter.com/narendramodi/status/177620...   \n",
       "3  https://twitter.com/narendramodi/status/177620...   \n",
       "4  https://twitter.com/narendramodi/status/177620...   \n",
       "\n",
       "                                                text  \\\n",
       "0  Delighted to interact with @BJP4Karnataka Kary...   \n",
       "1  चूरू से देवेंद्र झाझरिया का भाजपा उम्मीदवार बन...   \n",
       "2  कांग्रेस और इंडी गठबंधन ने गरीब, दलित और वंचित...   \n",
       "3  जिस भ्रष्टाचार ने देश को बर्बाद किया है, उसके ...   \n",
       "4  कांग्रेस हमारी आस्था के अपमान पर इस कदर उतर आई...   \n",
       "\n",
       "                         date     No  \n",
       "0  Apr 5, 2024 · 11:01 AM UTC   7839  \n",
       "1  Apr 5, 2024 · 10:56 AM UTC  15304  \n",
       "2  Apr 5, 2024 · 10:56 AM UTC   5014  \n",
       "3  Apr 5, 2024 · 10:56 AM UTC   6921  \n",
       "4  Apr 5, 2024 · 10:55 AM UTC   5828  "
      ]
     },
     "execution_count": 4,
     "metadata": {},
     "output_type": "execute_result"
    }
   ],
   "source": [
    "data=pd.DataFrame(final_tweets,columns=['link','text','date','No'])\n",
    "data "
   ]
  },
  {
   "cell_type": "code",
   "execution_count": null,
   "id": "7f9c5578-cc96-4d56-a40c-3d426dd85bc4",
   "metadata": {},
   "outputs": [],
   "source": []
  }
 ],
 "metadata": {
  "kernelspec": {
   "display_name": "Python 3 (ipykernel)",
   "language": "python",
   "name": "python3"
  },
  "language_info": {
   "codemirror_mode": {
    "name": "ipython",
    "version": 3
   },
   "file_extension": ".py",
   "mimetype": "text/x-python",
   "name": "python",
   "nbconvert_exporter": "python",
   "pygments_lexer": "ipython3",
   "version": "3.12.2"
  }
 },
 "nbformat": 4,
 "nbformat_minor": 5
}
