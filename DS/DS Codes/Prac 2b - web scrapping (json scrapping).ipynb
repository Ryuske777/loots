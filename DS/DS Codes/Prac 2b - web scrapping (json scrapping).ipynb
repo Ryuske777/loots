{
 "cells": [
  {
   "cell_type": "code",
   "execution_count": 2,
   "id": "64a2a3bd-b06a-4600-bb30-0e45e56f7692",
   "metadata": {},
   "outputs": [
    {
     "name": "stdout",
     "output_type": "stream",
     "text": [
      "   User ID         User Name              Email Address  \\\n",
      "0        1              Bret          Sincere@april.biz   \n",
      "1        2         Antonette          Shanna@melissa.tv   \n",
      "2        3          Samantha         Nathan@yesenia.net   \n",
      "3        4          Karianne  Julianne.OConner@kory.org   \n",
      "4        5            Kamren   Lucio_Hettinger@annie.ca   \n",
      "5        6  Leopoldo_Corkery    Karley_Dach@jasper.info   \n",
      "6        7      Elwyn.Skiles     Telly.Hoeger@billy.biz   \n",
      "7        8     Maxime_Nienow       Sherwood@rosamond.me   \n",
      "8        9          Delphine    Chaim_McDermott@dana.io   \n",
      "9       10    Moriah.Stanton     Rey.Padberg@karina.biz   \n",
      "\n",
      "                                             Address  \n",
      "0  {'street': 'Kulas Light', 'suite': 'Apt. 556',...  \n",
      "1  {'street': 'Victor Plains', 'suite': 'Suite 87...  \n",
      "2  {'street': 'Douglas Extension', 'suite': 'Suit...  \n",
      "3  {'street': 'Hoeger Mall', 'suite': 'Apt. 692',...  \n",
      "4  {'street': 'Skiles Walks', 'suite': 'Suite 351...  \n",
      "5  {'street': 'Norberto Crossing', 'suite': 'Apt....  \n",
      "6  {'street': 'Rex Trail', 'suite': 'Suite 280', ...  \n",
      "7  {'street': 'Ellsworth Summit', 'suite': 'Suite...  \n",
      "8  {'street': 'Dayna Park', 'suite': 'Suite 449',...  \n",
      "9  {'street': 'Kattie Turnpike', 'suite': 'Suite ...  \n"
     ]
    }
   ],
   "source": [
    "import pandas as pd\n",
    "import urllib.request\n",
    "import json\n",
    "\n",
    "url=\"https://jsonplaceholder.typicode.com/users\"\n",
    "response=urllib.request.urlopen(url)\n",
    "data=json.loads(response.read())\n",
    "\n",
    "id=[]\n",
    "username=[]\n",
    "email=[]\n",
    "address=[]\n",
    "\n",
    "for item in data:\n",
    "    if \"id\" in item.keys():\n",
    "        id.append(item[\"id\"])\n",
    "    else:\n",
    "        id.append(\"NA\")\n",
    "    if \"username\" in item.keys():\n",
    "        username.append(item[\"username\"])\n",
    "    else:\n",
    "        username.append(\"NA\")\n",
    "    if \"email\" in item.keys():\n",
    "        email.append(item[\"email\"])\n",
    "    else:\n",
    "        email.append(\"NA\")\n",
    "    if \"address\" in item.keys():\n",
    "        address.append(item[\"address\"])\n",
    "    else:\n",
    "        address.append(\"NA\")\n",
    "        \n",
    "user_df=pd.DataFrame()\n",
    "user_df[\"User ID\"]=id\n",
    "user_df[\"User Name\"]=username\n",
    "user_df[\"Email Address\"]=email\n",
    "user_df[\"Address\"]=address\n",
    "\n",
    "print(user_df.head(10))"
   ]
  },
  {
   "cell_type": "code",
   "execution_count": null,
   "id": "06dd8868-11d2-438a-be34-61909496b127",
   "metadata": {},
   "outputs": [],
   "source": []
  }
 ],
 "metadata": {
  "kernelspec": {
   "display_name": "Python 3 (ipykernel)",
   "language": "python",
   "name": "python3"
  },
  "language_info": {
   "codemirror_mode": {
    "name": "ipython",
    "version": 3
   },
   "file_extension": ".py",
   "mimetype": "text/x-python",
   "name": "python",
   "nbconvert_exporter": "python",
   "pygments_lexer": "ipython3",
   "version": "3.12.2"
  }
 },
 "nbformat": 4,
 "nbformat_minor": 5
}
