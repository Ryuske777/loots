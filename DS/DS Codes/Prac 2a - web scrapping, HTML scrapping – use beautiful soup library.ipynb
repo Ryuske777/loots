{
 "cells": [
  {
   "cell_type": "code",
   "execution_count": 1,
   "id": "84f44389-d04c-4457-bb24-02a24c166bf5",
   "metadata": {},
   "outputs": [
    {
     "name": "stderr",
     "output_type": "stream",
     "text": [
      "<>:19: SyntaxWarning: invalid escape sequence '\\X'\n",
      "<>:19: SyntaxWarning: invalid escape sequence '\\X'\n",
      "C:\\Users\\panka\\AppData\\Local\\Temp\\ipykernel_8400\\2151921720.py:19: SyntaxWarning: invalid escape sequence '\\X'\n",
      "  Country.append(cells[1].get_text().strip(\"\\Xa0\").strip(\"\\n\"))\n",
      "C:\\Users\\panka\\AppData\\Local\\Temp\\ipykernel_8400\\2151921720.py:1: DeprecationWarning: \n",
      "Pyarrow will become a required dependency of pandas in the next major release of pandas (pandas 3.0),\n",
      "(to allow more performant data types, such as the Arrow string type, and better interoperability with other libraries)\n",
      "but was not found to be installed on your system.\n",
      "If this would cause problems for you,\n",
      "please provide us feedback at https://github.com/pandas-dev/pandas/issues/54466\n",
      "        \n",
      "  import pandas as pd\n"
     ]
    },
    {
     "name": "stdout",
     "output_type": "stream",
     "text": [
      "   ID       Country                Area\n",
      "0   1         Russi  13083100 (5051400)\n",
      "1   2          Chin   9596961 (3705407)\n",
      "2   3          Indi   3287263 (1269219)\n",
      "3   4    Kazakhstan   2600000 (1000000)\n",
      "4   5   Saudi Arabi    2149690 (830000)\n",
      "5   6          Iran    1648195 (636372)\n",
      "6   7       Mongoli    1564110 (603910)\n",
      "7   8      Indonesi    1488509 (574717)\n",
      "8   9      Pakistan     881913 (340509)\n",
      "9  10        Turkey     759805 (293362)\n"
     ]
    }
   ],
   "source": [
    "import pandas as pd \n",
    "from bs4 import BeautifulSoup\n",
    "from urllib.request import urlopen\n",
    "\n",
    "\n",
    "url=\"https://en.wikipedia.org/wiki/List_of_Asian_countries_by_area\"\n",
    "page=urlopen(url)\n",
    "html_page=page.read().decode(\"utf-8\")\n",
    "soup=BeautifulSoup(html_page,\"html.parser\")\n",
    "table=soup.find(\"table\")\n",
    "SrNo=[]\n",
    "Country=[]\n",
    "Area=[]\n",
    "rows=table.find(\"tbody\").find_all(\"tr\")\n",
    "for row in rows:\n",
    "    cells=row.find_all(\"td\")\n",
    "    if(cells):\n",
    "        SrNo.append(cells[0].get_text().strip(\"\\n\"))\n",
    "        Country.append(cells[1].get_text().strip(\"\\Xa0\").strip(\"\\n\"))\n",
    "        Area.append(cells[3].get_text().strip(\"\\n\").replace(\",\",\"\"))\n",
    "country_df=pd.DataFrame()\n",
    "country_df[\"ID\"]=SrNo\n",
    "country_df[\"Country\"]=Country\n",
    "country_df[\"Area\"]=Area\n",
    "\n",
    "print(country_df.head(10))\n",
    "#print(SrNo)\n",
    "#print(Country)\n",
    "#print(Area)"
   ]
  },
  {
   "cell_type": "code",
   "execution_count": null,
   "id": "430fa86e-42df-4f82-a192-8301d3a79f12",
   "metadata": {},
   "outputs": [],
   "source": []
  }
 ],
 "metadata": {
  "kernelspec": {
   "display_name": "Python 3 (ipykernel)",
   "language": "python",
   "name": "python3"
  },
  "language_info": {
   "codemirror_mode": {
    "name": "ipython",
    "version": 3
   },
   "file_extension": ".py",
   "mimetype": "text/x-python",
   "name": "python",
   "nbconvert_exporter": "python",
   "pygments_lexer": "ipython3",
   "version": "3.12.2"
  }
 },
 "nbformat": 4,
 "nbformat_minor": 5
}
