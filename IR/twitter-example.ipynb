{
 "cells": [
  {
   "cell_type": "code",
   "execution_count": 2,
   "id": "d17cac9d-6201-42e8-9b51-5f80f68bb7db",
   "metadata": {
    "scrolled": true
   },
   "outputs": [
    {
     "name": "stderr",
     "output_type": "stream",
     "text": [
      "C:\\Users\\panka\\AppData\\Local\\Temp\\ipykernel_2056\\3346889237.py:2: DeprecationWarning: \n",
      "Pyarrow will become a required dependency of pandas in the next major release of pandas (pandas 3.0),\n",
      "(to allow more performant data types, such as the Arrow string type, and better interoperability with other libraries)\n",
      "but was not found to be installed on your system.\n",
      "If this would cause problems for you,\n",
      "please provide us feedback at https://github.com/pandas-dev/pandas/issues/54466\n",
      "        \n",
      "  import pandas as pd\n",
      "Testing instances: 100%|███████████████████████████████████████████████████████████████| 77/77 [02:18<00:00,  1.80s/it]\n"
     ]
    }
   ],
   "source": [
    "#checked and working and taken another username for testing\n",
    "import pandas as pd\n",
    "from ntscraper import Nitter\n",
    "scraper=Nitter()"
   ]
  },
  {
   "cell_type": "code",
   "execution_count": 3,
   "id": "757e8e67-e6b0-4a8b-8a9e-8459a6963a74",
   "metadata": {},
   "outputs": [
    {
     "name": "stdout",
     "output_type": "stream",
     "text": [
      "05-Apr-24 23:03:31 - No instance specified, using random instance https://nitter.eu.projectsegfau.lt\n",
      "05-Apr-24 23:03:33 - Empty page on https://nitter.eu.projectsegfau.lt\n"
     ]
    },
    {
     "data": {
      "text/plain": [
       "{'tweets': [], 'threads': []}"
      ]
     },
     "execution_count": 3,
     "metadata": {},
     "output_type": "execute_result"
    }
   ],
   "source": [
    "tweets=scraper.get_tweets('narendramodi',mode='user',number=5)\n",
    "tweets "
   ]
  },
  {
   "cell_type": "code",
   "execution_count": 13,
   "id": "6399de68-dc82-45ea-82a1-3c0e337348c2",
   "metadata": {},
   "outputs": [
    {
     "data": {
      "text/plain": [
       "[]"
      ]
     },
     "execution_count": 13,
     "metadata": {},
     "output_type": "execute_result"
    }
   ],
   "source": [
    "final_tweets=[]\n",
    "for tweet in tweets['tweets']:\n",
    " data=[tweet['link'],tweet['text'],tweet['date'],tweet['stats']['likes']]\n",
    " final_tweets.append(data)\n",
    "final_tweets"
   ]
  },
  {
   "cell_type": "code",
   "execution_count": 14,
   "id": "294bd406-bc3b-47ff-b6de-0aa273b47dc9",
   "metadata": {},
   "outputs": [
    {
     "data": {
      "text/html": [
       "<div>\n",
       "<style scoped>\n",
       "    .dataframe tbody tr th:only-of-type {\n",
       "        vertical-align: middle;\n",
       "    }\n",
       "\n",
       "    .dataframe tbody tr th {\n",
       "        vertical-align: top;\n",
       "    }\n",
       "\n",
       "    .dataframe thead th {\n",
       "        text-align: right;\n",
       "    }\n",
       "</style>\n",
       "<table border=\"1\" class=\"dataframe\">\n",
       "  <thead>\n",
       "    <tr style=\"text-align: right;\">\n",
       "      <th></th>\n",
       "      <th>link</th>\n",
       "      <th>text</th>\n",
       "      <th>date</th>\n",
       "      <th>No</th>\n",
       "    </tr>\n",
       "  </thead>\n",
       "  <tbody>\n",
       "  </tbody>\n",
       "</table>\n",
       "</div>"
      ],
      "text/plain": [
       "Empty DataFrame\n",
       "Columns: [link, text, date, No]\n",
       "Index: []"
      ]
     },
     "execution_count": 14,
     "metadata": {},
     "output_type": "execute_result"
    }
   ],
   "source": [
    "data=pd.DataFrame(final_tweets,columns=['link','text','date','No'])\n",
    "data "
   ]
  },
  {
   "cell_type": "code",
   "execution_count": null,
   "id": "47354227-041b-4627-b2f9-a010552b44a4",
   "metadata": {},
   "outputs": [],
   "source": []
  }
 ],
 "metadata": {
  "kernelspec": {
   "display_name": "Python 3 (ipykernel)",
   "language": "python",
   "name": "python3"
  },
  "language_info": {
   "codemirror_mode": {
    "name": "ipython",
    "version": 3
   },
   "file_extension": ".py",
   "mimetype": "text/x-python",
   "name": "python",
   "nbconvert_exporter": "python",
   "pygments_lexer": "ipython3",
   "version": "3.12.2"
  }
 },
 "nbformat": 4,
 "nbformat_minor": 5
}
