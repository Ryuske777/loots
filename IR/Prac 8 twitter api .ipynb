{
 "cells": [
  {
   "cell_type": "code",
   "execution_count": 10,
   "id": "4f02fe2e-330b-4f61-8c12-4e001174909d",
   "metadata": {},
   "outputs": [
    {
     "name": "stderr",
     "output_type": "stream",
     "text": [
      "Testing instances: 100%|███████████████████████████████████████████████████████████████| 77/77 [02:14<00:00,  1.74s/it]\n"
     ]
    }
   ],
   "source": [
    "#checked and working\n",
    "import pandas as pd\n",
    "from ntscraper import Nitter\n",
    "scraper=Nitter()"
   ]
  },
  {
   "cell_type": "code",
   "execution_count": 14,
   "id": "f9b3e5f6-1dc1-4e87-b92f-ee375da21d40",
   "metadata": {},
   "outputs": [
    {
     "name": "stdout",
     "output_type": "stream",
     "text": [
      "05-Apr-24 22:01:33 - No instance specified, using random instance https://nitter.in.projectsegfau.lt\n",
      "05-Apr-24 22:01:35 - Empty page on https://nitter.in.projectsegfau.lt\n"
     ]
    },
    {
     "data": {
      "text/plain": [
       "{'tweets': [], 'threads': []}"
      ]
     },
     "execution_count": 14,
     "metadata": {},
     "output_type": "execute_result"
    }
   ],
   "source": [
    "tweets=scraper.get_tweets('myogiadityanath',mode='user',number=5)\n",
    "tweets \n"
   ]
  },
  {
   "cell_type": "code",
   "execution_count": 3,
   "id": "dc669a70-60a4-4376-94c8-f05f5fca0fbf",
   "metadata": {},
   "outputs": [
    {
     "data": {
      "text/plain": [
       "[['https://twitter.com/narendramodi/status/1776203429423042721#m',\n",
       "  'Delighted to interact with @BJP4Karnataka Karyakartas. Their determination and perseverance is praiseworthy. https://twitter.com/i/broadcasts/1MnGnMmZrPwKO',\n",
       "  'Apr 5, 2024 · 11:01 AM UTC',\n",
       "  7839],\n",
       " ['https://twitter.com/narendramodi/status/1776202224189804720#m',\n",
       "  'चूरू से देवेंद्र झाझरिया का भाजपा उम्मीदवार बनना इस बात का प्रतीक है कि खेल जगत में भारत का मान-सम्मान बढ़ाने वाले अपने बेटे-बेटियों को देश कभी भूलने वाला नहीं है।',\n",
       "  'Apr 5, 2024 · 10:56 AM UTC',\n",
       "  15304],\n",
       " ['https://twitter.com/narendramodi/status/1776202193994981538#m',\n",
       "  'कांग्रेस और इंडी गठबंधन ने गरीब, दलित और वंचित समुदायों के हमारे भाई-बहनों की हमेशा उपेक्षा की है, इसे इन चुनावों में भी याद रखना है।',\n",
       "  'Apr 5, 2024 · 10:56 AM UTC',\n",
       "  5014],\n",
       " ['https://twitter.com/narendramodi/status/1776202147966685529#m',\n",
       "  'जिस भ्रष्टाचार ने देश को बर्बाद किया है, उसके खिलाफ लड़ाई में जनता-जनार्दन मुझे अपना भरपूर आशीर्वाद दे रही है।',\n",
       "  'Apr 5, 2024 · 10:56 AM UTC',\n",
       "  6921],\n",
       " ['https://twitter.com/narendramodi/status/1776202107378339941#m',\n",
       "  'कांग्रेस हमारी आस्था के अपमान पर इस कदर उतर आई है कि अब वो अपने नेताओं को राम मंदिर की चर्चा तक से बचने की सलाह दे रही है।',\n",
       "  'Apr 5, 2024 · 10:55 AM UTC',\n",
       "  5828]]"
      ]
     },
     "execution_count": 3,
     "metadata": {},
     "output_type": "execute_result"
    }
   ],
   "source": [
    "final_tweets=[]\n",
    "for tweet in tweets['tweets']:\n",
    " data=[tweet['link'],tweet['text'],tweet['date'],tweet['stats']['likes']]\n",
    " final_tweets.append(data)\n",
    "final_tweets"
   ]
  },
  {
   "cell_type": "code",
   "execution_count": 4,
   "id": "7b6becb0-88a2-4394-aeeb-8a8843bdf8bf",
   "metadata": {},
   "outputs": [
    {
     "data": {
      "text/html": [
       "<div>\n",
       "<style scoped>\n",
       "    .dataframe tbody tr th:only-of-type {\n",
       "        vertical-align: middle;\n",
       "    }\n",
       "\n",
       "    .dataframe tbody tr th {\n",
       "        vertical-align: top;\n",
       "    }\n",
       "\n",
       "    .dataframe thead th {\n",
       "        text-align: right;\n",
       "    }\n",
       "</style>\n",
       "<table border=\"1\" class=\"dataframe\">\n",
       "  <thead>\n",
       "    <tr style=\"text-align: right;\">\n",
       "      <th></th>\n",
       "      <th>link</th>\n",
       "      <th>text</th>\n",
       "      <th>date</th>\n",
       "      <th>No</th>\n",
       "    </tr>\n",
       "  </thead>\n",
       "  <tbody>\n",
       "    <tr>\n",
       "      <th>0</th>\n",
       "      <td>https://twitter.com/narendramodi/status/177620...</td>\n",
       "      <td>Delighted to interact with @BJP4Karnataka Kary...</td>\n",
       "      <td>Apr 5, 2024 · 11:01 AM UTC</td>\n",
       "      <td>7839</td>\n",
       "    </tr>\n",
       "    <tr>\n",
       "      <th>1</th>\n",
       "      <td>https://twitter.com/narendramodi/status/177620...</td>\n",
       "      <td>चूरू से देवेंद्र झाझरिया का भाजपा उम्मीदवार बन...</td>\n",
       "      <td>Apr 5, 2024 · 10:56 AM UTC</td>\n",
       "      <td>15304</td>\n",
       "    </tr>\n",
       "    <tr>\n",
       "      <th>2</th>\n",
       "      <td>https://twitter.com/narendramodi/status/177620...</td>\n",
       "      <td>कांग्रेस और इंडी गठबंधन ने गरीब, दलित और वंचित...</td>\n",
       "      <td>Apr 5, 2024 · 10:56 AM UTC</td>\n",
       "      <td>5014</td>\n",
       "    </tr>\n",
       "    <tr>\n",
       "      <th>3</th>\n",
       "      <td>https://twitter.com/narendramodi/status/177620...</td>\n",
       "      <td>जिस भ्रष्टाचार ने देश को बर्बाद किया है, उसके ...</td>\n",
       "      <td>Apr 5, 2024 · 10:56 AM UTC</td>\n",
       "      <td>6921</td>\n",
       "    </tr>\n",
       "    <tr>\n",
       "      <th>4</th>\n",
       "      <td>https://twitter.com/narendramodi/status/177620...</td>\n",
       "      <td>कांग्रेस हमारी आस्था के अपमान पर इस कदर उतर आई...</td>\n",
       "      <td>Apr 5, 2024 · 10:55 AM UTC</td>\n",
       "      <td>5828</td>\n",
       "    </tr>\n",
       "  </tbody>\n",
       "</table>\n",
       "</div>"
      ],
      "text/plain": [
       "                                                link  \\\n",
       "0  https://twitter.com/narendramodi/status/177620...   \n",
       "1  https://twitter.com/narendramodi/status/177620...   \n",
       "2  https://twitter.com/narendramodi/status/177620...   \n",
       "3  https://twitter.com/narendramodi/status/177620...   \n",
       "4  https://twitter.com/narendramodi/status/177620...   \n",
       "\n",
       "                                                text  \\\n",
       "0  Delighted to interact with @BJP4Karnataka Kary...   \n",
       "1  चूरू से देवेंद्र झाझरिया का भाजपा उम्मीदवार बन...   \n",
       "2  कांग्रेस और इंडी गठबंधन ने गरीब, दलित और वंचित...   \n",
       "3  जिस भ्रष्टाचार ने देश को बर्बाद किया है, उसके ...   \n",
       "4  कांग्रेस हमारी आस्था के अपमान पर इस कदर उतर आई...   \n",
       "\n",
       "                         date     No  \n",
       "0  Apr 5, 2024 · 11:01 AM UTC   7839  \n",
       "1  Apr 5, 2024 · 10:56 AM UTC  15304  \n",
       "2  Apr 5, 2024 · 10:56 AM UTC   5014  \n",
       "3  Apr 5, 2024 · 10:56 AM UTC   6921  \n",
       "4  Apr 5, 2024 · 10:55 AM UTC   5828  "
      ]
     },
     "execution_count": 4,
     "metadata": {},
     "output_type": "execute_result"
    }
   ],
   "source": [
    "data=pd.DataFrame(final_tweets,columns=['link','text','date','No'])\n",
    "data "
   ]
  },
  {
   "cell_type": "code",
   "execution_count": null,
   "id": "6785438e-2f76-473e-9038-6f55404dd053",
   "metadata": {},
   "outputs": [],
   "source": []
  }
 ],
 "metadata": {
  "kernelspec": {
   "display_name": "Python 3 (ipykernel)",
   "language": "python",
   "name": "python3"
  },
  "language_info": {
   "codemirror_mode": {
    "name": "ipython",
    "version": 3
   },
   "file_extension": ".py",
   "mimetype": "text/x-python",
   "name": "python",
   "nbconvert_exporter": "python",
   "pygments_lexer": "ipython3",
   "version": "3.12.2"
  }
 },
 "nbformat": 4,
 "nbformat_minor": 5
}
