{
 "cells": [
  {
   "cell_type": "code",
   "execution_count": 1,
   "id": "459e5f37-0020-4e49-b94d-941f0a20fbc5",
   "metadata": {},
   "outputs": [
    {
     "data": {
      "text/plain": [
       "0.4444444444444444"
      ]
     },
     "execution_count": 1,
     "metadata": {},
     "output_type": "execute_result"
    }
   ],
   "source": [
    "#checked and working\n",
    "#jaccard similarity\n",
    "def jaccard(d1, d2):\n",
    " wd1 = set(d1.lower().split())\n",
    " wd2 = set(d2.lower().split())\n",
    " intersection = wd1.intersection(wd2)\n",
    " union = wd1.union(wd2)\n",
    " return float(len(intersection))/len(union)\n",
    "d1 = \"Data is the new oil of digital economy\"\n",
    "d2 = \"Data is a new oil\"\n",
    "jaccard(d1, d2)"
   ]
  },
  {
   "cell_type": "code",
   "execution_count": null,
   "id": "d2989231-5af8-4d33-94b3-0c2fce14dec2",
   "metadata": {},
   "outputs": [],
   "source": []
  }
 ],
 "metadata": {
  "kernelspec": {
   "display_name": "Python 3 (ipykernel)",
   "language": "python",
   "name": "python3"
  },
  "language_info": {
   "codemirror_mode": {
    "name": "ipython",
    "version": 3
   },
   "file_extension": ".py",
   "mimetype": "text/x-python",
   "name": "python",
   "nbconvert_exporter": "python",
   "pygments_lexer": "ipython3",
   "version": "3.12.2"
  }
 },
 "nbformat": 4,
 "nbformat_minor": 5
}
