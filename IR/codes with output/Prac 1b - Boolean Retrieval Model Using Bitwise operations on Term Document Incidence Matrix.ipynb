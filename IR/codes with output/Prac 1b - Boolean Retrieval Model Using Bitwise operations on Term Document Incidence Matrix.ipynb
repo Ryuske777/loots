{
 "cells": [
  {
   "cell_type": "code",
   "execution_count": 6,
   "id": "6163821b-fced-4a86-8621-64aad4da4024",
   "metadata": {},
   "outputs": [
    {
     "name": "stdout",
     "output_type": "stream",
     "text": [
      "Boolean Retrieval Model Using Bitwise operations on Term Document Incidence Matrix\n",
      "This is corpus: ['Is this is the First Document', 'an this is the third document', 'this document is the second document', 'this is a document']\n",
      "This generated data frame:\n",
      "   an  document  first  is  second  the  third  this\n",
      "0   0         1      1   2       0    1      0     1\n",
      "1   1         1      0   1       0    1      1     1\n",
      "2   0         2      0   1       1    1      0     1\n",
      "3   0         1      0   1       0    0      0     1\n",
      "Query processing on term document incidence matrix\n",
      "\n",
      "1. Find all document indices for query 'this' AND 'first'\n",
      "Document indices where both 'this' AND 'first' are present are: [0]\n",
      "\n",
      "2. Find all document indices for query 'this' OR 'first'\n",
      "Document indices where either 'this' OR 'first' are present are: [0, 1, 2, 3]\n",
      "\n",
      "3. Find all document indices for query 'NOT' 'is'\n",
      "Document indices where 'is' term is not present are: []\n",
      "\n"
     ]
    }
   ],
   "source": [
    "import pandas as pd\n",
    "from sklearn.feature_extraction.text import CountVectorizer\n",
    "\n",
    "print(\"Boolean Retrieval Model Using Bitwise operations on Term Document Incidence Matrix\")\n",
    "\n",
    "# Sort the corpus to maintain consistent order of documents\n",
    "corpus = ['this is a document', 'this document is the second document', \n",
    "          'an this is the third document', 'Is this is the First Document']\n",
    "corpus.sort()\n",
    "\n",
    "print(f\"This is corpus: {corpus}\")\n",
    "\n",
    "vectorizer = CountVectorizer()\n",
    "x = vectorizer.fit_transform(corpus)\n",
    "df = pd.DataFrame(x.toarray(), columns=vectorizer.get_feature_names_out())\n",
    "\n",
    "print(\"This generated data frame:\")\n",
    "print(df)\n",
    "print(\"Query processing on term document incidence matrix\\n\")\n",
    "\n",
    "# AND\n",
    "print(\"1. Find all document indices for query 'this' AND 'first'\")\n",
    "alldata = df[(df['this'] == 1) & (df['first'] == 1)]\n",
    "print(f\"Document indices where both 'this' AND 'first' are present are: {alldata.index.tolist()}\\n\")\n",
    "\n",
    "# OR\n",
    "print(\"2. Find all document indices for query 'this' OR 'first'\")\n",
    "alldata = df[(df['this'] == 1) | (df['first'] == 1)]\n",
    "print(f\"Document indices where either 'this' OR 'first' are present are: {alldata.index.tolist()}\\n\")\n",
    "\n",
    "# NOT\n",
    "print(\"3. Find all document indices for query 'NOT' 'is'\")\n",
    "alldata = df[(df['is'] == 0)]\n",
    "print(f\"Document indices where 'is' term is not present are: {alldata.index.tolist()}\\n\")\n",
    "\n",
    "\n",
    "# Note :-\n",
    "# in this the documents are 3,2,1,0\n"
   ]
  },
  {
   "cell_type": "code",
   "execution_count": null,
   "id": "0b36874a-be2f-4116-90eb-00c22cb33014",
   "metadata": {},
   "outputs": [],
   "source": []
  }
 ],
 "metadata": {
  "kernelspec": {
   "display_name": "Python 3 (ipykernel)",
   "language": "python",
   "name": "python3"
  },
  "language_info": {
   "codemirror_mode": {
    "name": "ipython",
    "version": 3
   },
   "file_extension": ".py",
   "mimetype": "text/x-python",
   "name": "python",
   "nbconvert_exporter": "python",
   "pygments_lexer": "ipython3",
   "version": "3.12.2"
  }
 },
 "nbformat": 4,
 "nbformat_minor": 5
}
