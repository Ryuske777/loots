{
 "cells": [
  {
   "cell_type": "code",
   "execution_count": 1,
   "id": "7c769eb4-c194-4b5c-9c20-7049007df2dc",
   "metadata": {},
   "outputs": [
    {
     "name": "stdout",
     "output_type": "stream",
     "text": [
      "Name: John, Age: 30, City: New York\n",
      "Name: Alice, Age: 25, City: London\n"
     ]
    }
   ],
   "source": [
    "import xml.etree.ElementTree as ET\n",
    "\n",
    "xml_data = '''<root>\n",
    " <person>\n",
    "    <name>John</name>\n",
    "    <age>30</age>\n",
    "    <city>New York</city>\n",
    " </person>\n",
    " <person>\n",
    "    <name>Alice</name>\n",
    "    <age>25</age>\n",
    "    <city>London</city>\n",
    " </person>\n",
    "</root>'''\n",
    "\n",
    "tree = ET.fromstring(xml_data)\n",
    "\n",
    "for person in tree.findall('person'):\n",
    "    name = person.find('name').text\n",
    "    age = person.find('age').text\n",
    "    city = person.find('city').text\n",
    "    print(f\"Name: {name}, Age: {age}, City: {city}\")\n"
   ]
  },
  {
   "cell_type": "code",
   "execution_count": null,
   "id": "f50d78f0-f761-454f-b8d0-2420b5d26282",
   "metadata": {},
   "outputs": [],
   "source": []
  }
 ],
 "metadata": {
  "kernelspec": {
   "display_name": "Python 3 (ipykernel)",
   "language": "python",
   "name": "python3"
  },
  "language_info": {
   "codemirror_mode": {
    "name": "ipython",
    "version": 3
   },
   "file_extension": ".py",
   "mimetype": "text/x-python",
   "name": "python",
   "nbconvert_exporter": "python",
   "pygments_lexer": "ipython3",
   "version": "3.12.2"
  }
 },
 "nbformat": 4,
 "nbformat_minor": 5
}
