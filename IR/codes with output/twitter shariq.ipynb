{
 "cells": [
  {
   "cell_type": "code",
   "execution_count": 1,
   "id": "e401de1b-54b9-4d83-97ae-224221219810",
   "metadata": {},
   "outputs": [
    {
     "name": "stdout",
     "output_type": "stream",
     "text": [
      "Requirement already satisfied: ntscraper in c:\\users\\panka\\appdata\\local\\programs\\python\\python312\\lib\\site-packages (0.3.12)\n",
      "Requirement already satisfied: requests in c:\\users\\panka\\appdata\\local\\programs\\python\\python312\\lib\\site-packages (from ntscraper) (2.31.0)\n",
      "Requirement already satisfied: beautifulsoup4 in c:\\users\\panka\\appdata\\local\\programs\\python\\python312\\lib\\site-packages (from ntscraper) (4.12.3)\n",
      "Requirement already satisfied: lxml in c:\\users\\panka\\appdata\\local\\programs\\python\\python312\\lib\\site-packages (from ntscraper) (5.1.0)\n",
      "Requirement already satisfied: soupsieve>1.2 in c:\\users\\panka\\appdata\\local\\programs\\python\\python312\\lib\\site-packages (from beautifulsoup4->ntscraper) (2.5)\n",
      "Requirement already satisfied: charset-normalizer<4,>=2 in c:\\users\\panka\\appdata\\local\\programs\\python\\python312\\lib\\site-packages (from requests->ntscraper) (3.3.2)\n",
      "Requirement already satisfied: idna<4,>=2.5 in c:\\users\\panka\\appdata\\local\\programs\\python\\python312\\lib\\site-packages (from requests->ntscraper) (3.6)\n",
      "Requirement already satisfied: urllib3<3,>=1.21.1 in c:\\users\\panka\\appdata\\local\\programs\\python\\python312\\lib\\site-packages (from requests->ntscraper) (2.2.0)\n",
      "Requirement already satisfied: certifi>=2017.4.17 in c:\\users\\panka\\appdata\\local\\programs\\python\\python312\\lib\\site-packages (from requests->ntscraper) (2024.2.2)\n"
     ]
    },
    {
     "name": "stderr",
     "output_type": "stream",
     "text": [
      "C:\\Users\\panka\\AppData\\Local\\Temp\\ipykernel_3956\\3131947402.py:2: DeprecationWarning: \n",
      "Pyarrow will become a required dependency of pandas in the next major release of pandas (pandas 3.0),\n",
      "(to allow more performant data types, such as the Arrow string type, and better interoperability with other libraries)\n",
      "but was not found to be installed on your system.\n",
      "If this would cause problems for you,\n",
      "please provide us feedback at https://github.com/pandas-dev/pandas/issues/54466\n",
      "        \n",
      "  import pandas as pd\n",
      "Testing instances: 100%|███████████████████████████████████████████████████████████████| 77/77 [02:40<00:00,  2.08s/it]"
     ]
    },
    {
     "name": "stdout",
     "output_type": "stream",
     "text": [
      "09-Apr-24 18:52:23 - No instance specified, using random instance https://nitter.privacydev.net\n"
     ]
    },
    {
     "name": "stderr",
     "output_type": "stream",
     "text": [
      "\n"
     ]
    },
    {
     "name": "stdout",
     "output_type": "stream",
     "text": [
      "09-Apr-24 18:52:29 - Current stats for narendramodi: 5 tweets, 0 threads...\n",
      "[['https://twitter.com/narendramodi/status/1777567574496002549#m', 'गेल्या वर्षी पद्मश्रीने सन्मानित झालेले डॉ. परशुराम कोमाजी खुणे यांना काल चंद्रपूरमध्ये भेटून अतिशय आनंद झाला. आदिवासी समुदायांच्या उत्थानासाठी नाटक आणि लोककलांचा वापर करून त्यांनी केलेल्या उल्लेखनीय कार्यामुळे त्यांची ख्याती सुदूर पोहोचली आहे. त्यांच्या प्रयत्नांमुळे संस्कृतीची जोपासना करण्याला आणि सामाजिक भान वाढीला लावण्यास मदत मिळाली आहे.', 'Apr 9, 2024 · 5:21 AM UTC', 2138, 148], ['https://twitter.com/narendramodi/status/1777546909369970969#m', 'In Chandrapur yesterday, glad to have met Dr. Parshuram Komaji Khune, who was honored with the Padma Shri last year. His remarkable work, leveraging drama and folk art to uplift tribal communities, has earned him widespread respect. His efforts have helped boost culture and encourage social awareness.', 'Apr 9, 2024 · 3:59 AM UTC', 6037, 225], ['https://twitter.com/narendramodi/status/1777545169006739693#m', 'देशभर के मेरे परिवारजनों ने लोकसभा चुनाव में भाजपा-एनडीए की जीत की हैट्रिक बनाने की ठान ली है। लोकतंत्र के उत्सव के इस माहौल में आज उत्तर प्रदेश के पीलीभीत और मध्य प्रदेश के बालाघाट की जनसभाओं में जनता-जनार्दन का आशीर्वाद लेने का सौभाग्य मिलेगा।', 'Apr 9, 2024 · 3:52 AM UTC', 6031, 526], ['https://twitter.com/narendramodi/status/1777539509330059714#m', 'Sajibu Cheiraoba greetings!', 'Apr 9, 2024 · 3:30 AM UTC', 2966, 156], ['https://twitter.com/narendramodi/status/1777539191645061331#m', 'ಎಲ್ಲರಿಗೂ ಯುಗಾದಿಯ ಶುಭಾಶಯಗಳು!', 'Apr 9, 2024 · 3:29 AM UTC', 11683, 266]]\n",
      "                                                link  \\\n",
      "0  https://twitter.com/narendramodi/status/177756...   \n",
      "1  https://twitter.com/narendramodi/status/177754...   \n",
      "2  https://twitter.com/narendramodi/status/177754...   \n",
      "3  https://twitter.com/narendramodi/status/177753...   \n",
      "4  https://twitter.com/narendramodi/status/177753...   \n",
      "\n",
      "                                                text  \\\n",
      "0  गेल्या वर्षी पद्मश्रीने सन्मानित झालेले डॉ. पर...   \n",
      "1  In Chandrapur yesterday, glad to have met Dr. ...   \n",
      "2  देशभर के मेरे परिवारजनों ने लोकसभा चुनाव में भ...   \n",
      "3                        Sajibu Cheiraoba greetings!   \n",
      "4                        ಎಲ್ಲರಿಗೂ ಯುಗಾದಿಯ ಶುಭಾಶಯಗಳು!   \n",
      "\n",
      "                        date  Number of likes  Number of tweets  \n",
      "0  Apr 9, 2024 · 5:21 AM UTC             2138               148  \n",
      "1  Apr 9, 2024 · 3:59 AM UTC             6037               225  \n",
      "2  Apr 9, 2024 · 3:52 AM UTC             6031               526  \n",
      "3  Apr 9, 2024 · 3:30 AM UTC             2966               156  \n",
      "4  Apr 9, 2024 · 3:29 AM UTC            11683               266  \n"
     ]
    }
   ],
   "source": [
    "\n",
    "!pip install ntscraper\n",
    "import pandas as pd\n",
    "from ntscraper import Nitter\n",
    "scraper=Nitter()\n",
    "tweets=scraper.get_tweets('narendramodi',mode='user',number=5)\n",
    "\n",
    "final_tweets=[]\n",
    "for tweet in tweets['tweets']:\n",
    "    data=[tweet['link'],tweet['text'],tweet['date'],tweet['stats']['likes'],tweet['stats']['comments']]\n",
    "    final_tweets.append(data)\n",
    "print(final_tweets)\n",
    "\n",
    "data=pd.DataFrame(final_tweets,columns=['link','text','date','Number of likes','Number of tweets'])\n",
    "print(data)\n"
   ]
  },
  {
   "cell_type": "code",
   "execution_count": 2,
   "id": "c480ef4a-9023-44a9-8326-02f1892a5396",
   "metadata": {},
   "outputs": [
    {
     "name": "stdout",
     "output_type": "stream",
     "text": [
      "Requirement already satisfied: ntscraper in c:\\users\\panka\\appdata\\local\\programs\\python\\python312\\lib\\site-packages (0.3.12)\n",
      "Requirement already satisfied: requests in c:\\users\\panka\\appdata\\local\\programs\\python\\python312\\lib\\site-packages (from ntscraper) (2.31.0)\n",
      "Requirement already satisfied: beautifulsoup4 in c:\\users\\panka\\appdata\\local\\programs\\python\\python312\\lib\\site-packages (from ntscraper) (4.12.3)\n",
      "Requirement already satisfied: lxml in c:\\users\\panka\\appdata\\local\\programs\\python\\python312\\lib\\site-packages (from ntscraper) (5.1.0)\n",
      "Requirement already satisfied: soupsieve>1.2 in c:\\users\\panka\\appdata\\local\\programs\\python\\python312\\lib\\site-packages (from beautifulsoup4->ntscraper) (2.5)\n",
      "Requirement already satisfied: charset-normalizer<4,>=2 in c:\\users\\panka\\appdata\\local\\programs\\python\\python312\\lib\\site-packages (from requests->ntscraper) (3.3.2)\n",
      "Requirement already satisfied: idna<4,>=2.5 in c:\\users\\panka\\appdata\\local\\programs\\python\\python312\\lib\\site-packages (from requests->ntscraper) (3.6)\n",
      "Requirement already satisfied: urllib3<3,>=1.21.1 in c:\\users\\panka\\appdata\\local\\programs\\python\\python312\\lib\\site-packages (from requests->ntscraper) (2.2.0)\n",
      "Requirement already satisfied: certifi>=2017.4.17 in c:\\users\\panka\\appdata\\local\\programs\\python\\python312\\lib\\site-packages (from requests->ntscraper) (2024.2.2)\n"
     ]
    },
    {
     "name": "stderr",
     "output_type": "stream",
     "text": [
      "Testing instances: 100%|███████████████████████████████████████████████████████████████| 77/77 [02:07<00:00,  1.65s/it]"
     ]
    },
    {
     "name": "stdout",
     "output_type": "stream",
     "text": [
      "09-Apr-24 18:55:22 - No instance specified, using random instance https://nitter.privacydev.net\n"
     ]
    },
    {
     "name": "stderr",
     "output_type": "stream",
     "text": [
      "\n"
     ]
    },
    {
     "name": "stdout",
     "output_type": "stream",
     "text": [
      "09-Apr-24 18:55:31 - Current stats for klrahul: 5 tweets, 0 threads...\n",
      "[['https://twitter.com/klrahul/status/1777556790517158069#m', 'Wishing all a Happy Ugadi  Have a blessed year everyone 🙏', 'Apr 9, 2024 · 4:38 AM UTC', 12413, 214], ['https://twitter.com/klrahul/status/1777051754074664987#m', 'Total teamwork 💪', 'Apr 7, 2024 · 7:12 PM UTC', 25279, 204], ['https://twitter.com/klrahul/status/1774318956255547431#m', 'Character', 'Mar 31, 2024 · 6:12 AM UTC', 21518, 260], ['https://twitter.com/klrahul/status/1770709200047362476#m', \"11 CROREPATIS per match for the first 5 matches! Unbelievable... isn't it? 😲😲 . . #Ad #DreamSale #11CrorepatisHarMatch #Dream11\", 'Mar 21, 2024 · 7:09 AM UTC', 2005, 75], ['https://twitter.com/klrahul/status/1770422995267563660#m', '', 'Mar 20, 2024 · 12:11 PM UTC', 30013, 223]]\n",
      "                                                link  \\\n",
      "0  https://twitter.com/klrahul/status/17775567905...   \n",
      "1  https://twitter.com/klrahul/status/17770517540...   \n",
      "2  https://twitter.com/klrahul/status/17743189562...   \n",
      "3  https://twitter.com/klrahul/status/17707092000...   \n",
      "4  https://twitter.com/klrahul/status/17704229952...   \n",
      "\n",
      "                                                text  \\\n",
      "0  Wishing all a Happy Ugadi  Have a blessed year...   \n",
      "1                                   Total teamwork 💪   \n",
      "2                                          Character   \n",
      "3  11 CROREPATIS per match for the first 5 matche...   \n",
      "4                                                      \n",
      "\n",
      "                          date  Number of likes  Number of tweets  \n",
      "0    Apr 9, 2024 · 4:38 AM UTC            12413               214  \n",
      "1    Apr 7, 2024 · 7:12 PM UTC            25279               204  \n",
      "2   Mar 31, 2024 · 6:12 AM UTC            21518               260  \n",
      "3   Mar 21, 2024 · 7:09 AM UTC             2005                75  \n",
      "4  Mar 20, 2024 · 12:11 PM UTC            30013               223  \n"
     ]
    }
   ],
   "source": [
    "\n",
    "!pip install ntscraper\n",
    "import pandas as pd\n",
    "from ntscraper import Nitter\n",
    "scraper=Nitter()\n",
    "tweets=scraper.get_tweets('klrahul',mode='user',number=5)\n",
    "\n",
    "final_tweets=[]\n",
    "for tweet in tweets['tweets']:\n",
    "    data=[tweet['link'],tweet['text'],tweet['date'],tweet['stats']['likes'],tweet['stats']['comments']]\n",
    "    final_tweets.append(data)\n",
    "print(final_tweets)\n",
    "\n",
    "data=pd.DataFrame(final_tweets,columns=['link','text','date','Number of likes','Number of tweets'])\n",
    "print(data)\n"
   ]
  },
  {
   "cell_type": "code",
   "execution_count": 3,
   "id": "1d5d6760-15af-49ab-ab34-f20bc8a77044",
   "metadata": {},
   "outputs": [
    {
     "name": "stderr",
     "output_type": "stream",
     "text": [
      "Testing instances: 100%|███████████████████████████████████████████████████████████████| 77/77 [02:25<00:00,  1.89s/it]"
     ]
    },
    {
     "name": "stdout",
     "output_type": "stream",
     "text": [
      "09-Apr-24 19:02:28 - No instance specified, using random instance https://nitter.privacydev.net\n"
     ]
    },
    {
     "name": "stderr",
     "output_type": "stream",
     "text": [
      "\n"
     ]
    },
    {
     "name": "stdout",
     "output_type": "stream",
     "text": [
      "09-Apr-24 19:02:33 - Current stats for elonmusk: 5 tweets, 0 threads...\n",
      "[['https://twitter.com/elonmusk/status/1777556974453829977#m', '', 'Apr 9, 2024 · 4:39 AM UTC', 110032, 7394], ['https://twitter.com/ajtourville/status/1777543354646970767#m', \"The previous Brazilian government recognized @elonmusk's exceptional contributions to Brazil, regarding him as a true and cherished friend of the nation.\", 'Apr 9, 2024 · 3:45 AM UTC', 10744, 712], ['https://twitter.com/Tesla_Megapack/status/1777482957030392270#m', 'During today’s solar eclipse, >10 Megapack sites operating in ERCOT helped fill the >1GW energy void, ensuring the grid remained stable during the 4+ minute disruption of solar irradiance to solar sites across Texas', 'Apr 8, 2024 · 11:45 PM UTC', 6890, 388], ['https://twitter.com/elonmusk/status/1777506475536998586#m', 'How did @Alexandre de Moraes become the dictator of Brazil? He has Lula on a leash 😂', 'Apr 9, 2024 · 1:19 AM UTC', 134030, 12587], ['https://twitter.com/elonmusk/status/1777503076162601057#m', 'Great idea 😂', 'Apr 9, 2024 · 1:05 AM UTC', 41597, 2648]]\n",
      "                                                link  \\\n",
      "0  https://twitter.com/elonmusk/status/1777556974...   \n",
      "1  https://twitter.com/ajtourville/status/1777543...   \n",
      "2  https://twitter.com/Tesla_Megapack/status/1777...   \n",
      "3  https://twitter.com/elonmusk/status/1777506475...   \n",
      "4  https://twitter.com/elonmusk/status/1777503076...   \n",
      "\n",
      "                                                text  \\\n",
      "0                                                      \n",
      "1  The previous Brazilian government recognized @...   \n",
      "2  During today’s solar eclipse, >10 Megapack sit...   \n",
      "3  How did @Alexandre de Moraes become the dictat...   \n",
      "4                                       Great idea 😂   \n",
      "\n",
      "                         date  Number of likes  Number of tweets  \n",
      "0   Apr 9, 2024 · 4:39 AM UTC           110032              7394  \n",
      "1   Apr 9, 2024 · 3:45 AM UTC            10744               712  \n",
      "2  Apr 8, 2024 · 11:45 PM UTC             6890               388  \n",
      "3   Apr 9, 2024 · 1:19 AM UTC           134030             12587  \n",
      "4   Apr 9, 2024 · 1:05 AM UTC            41597              2648  \n"
     ]
    }
   ],
   "source": [
    "\n",
    "\n",
    "import pandas as pd\n",
    "from ntscraper import Nitter\n",
    "scraper=Nitter()\n",
    "tweets=scraper.get_tweets('elonmusk',mode='user',number=5)\n",
    "\n",
    "final_tweets=[]\n",
    "for tweet in tweets['tweets']:\n",
    "    data=[tweet['link'],tweet['text'],tweet['date'],tweet['stats']['likes'],tweet['stats']['comments']]\n",
    "    final_tweets.append(data)\n",
    "print(final_tweets)\n",
    "\n",
    "data=pd.DataFrame(final_tweets,columns=['link','text','date','Number of likes','Number of tweets'])\n",
    "print(data)\n"
   ]
  },
  {
   "cell_type": "code",
   "execution_count": 4,
   "id": "837f34f7-c3a1-40c8-b345-c7ccc0d631e9",
   "metadata": {},
   "outputs": [
    {
     "name": "stderr",
     "output_type": "stream",
     "text": [
      "Testing instances: 100%|███████████████████████████████████████████████████████████████| 77/77 [02:35<00:00,  2.02s/it]"
     ]
    },
    {
     "name": "stdout",
     "output_type": "stream",
     "text": [
      "09-Apr-24 19:11:42 - No instance specified, using random instance https://nitter.privacydev.net\n"
     ]
    },
    {
     "name": "stderr",
     "output_type": "stream",
     "text": [
      "\n"
     ]
    },
    {
     "name": "stdout",
     "output_type": "stream",
     "text": [
      "09-Apr-24 19:11:49 - Current stats for NASA: 5 tweets, 0 threads...\n",
      "[['https://twitter.com/NASA/status/1777465163777470865#m', 'Follow, follow the Sun / And which way the wind blows / When this day is done 🎶  Today, April 8, 2024, the last total solar #eclipse until 2045 crossed North America.', 'Apr 8, 2024 · 10:34 PM UTC', 29214, 339], ['https://twitter.com/NASA/status/1777420419311493356#m', \"Ever seen a total solar #eclipse from space?  Here is our astronauts' view from the @Space_Station\", 'Apr 8, 2024 · 7:37 PM UTC', 8319, 160], ['https://twitter.com/NASA/status/1777414798222983489#m', 'The total solar #eclipse is now sweeping across Indianapolis.  This is the first time in more than 800 years that the city is experiencing this celestial event!', 'Apr 8, 2024 · 7:14 PM UTC', 2782, 88], ['https://twitter.com/NASA/status/1777411551261085939#m', '', 'Apr 8, 2024 · 7:01 PM UTC', 2253, 39], ['https://twitter.com/NASA/status/1777399079124742451#m', \"Take it all in.  We're getting our first views of the 2024 total solar #eclipse as its shadow makes landfall in Mazatlán, Mexico.\", 'Apr 8, 2024 · 6:12 PM UTC', 7135, 111]]\n",
      "                                                link  \\\n",
      "0  https://twitter.com/NASA/status/17774651637774...   \n",
      "1  https://twitter.com/NASA/status/17774204193114...   \n",
      "2  https://twitter.com/NASA/status/17774147982229...   \n",
      "3  https://twitter.com/NASA/status/17774115512610...   \n",
      "4  https://twitter.com/NASA/status/17773990791247...   \n",
      "\n",
      "                                                text  \\\n",
      "0  Follow, follow the Sun / And which way the win...   \n",
      "1  Ever seen a total solar #eclipse from space?  ...   \n",
      "2  The total solar #eclipse is now sweeping acros...   \n",
      "3                                                      \n",
      "4  Take it all in.  We're getting our first views...   \n",
      "\n",
      "                         date  Number of likes  Number of tweets  \n",
      "0  Apr 8, 2024 · 10:34 PM UTC            29214               339  \n",
      "1   Apr 8, 2024 · 7:37 PM UTC             8319               160  \n",
      "2   Apr 8, 2024 · 7:14 PM UTC             2782                88  \n",
      "3   Apr 8, 2024 · 7:01 PM UTC             2253                39  \n",
      "4   Apr 8, 2024 · 6:12 PM UTC             7135               111  \n"
     ]
    }
   ],
   "source": [
    "\n",
    "\n",
    "import pandas as pd\n",
    "from ntscraper import Nitter\n",
    "scraper=Nitter()\n",
    "tweets=scraper.get_tweets('NASA',mode='user',number=5)\n",
    "\n",
    "final_tweets=[]\n",
    "for tweet in tweets['tweets']:\n",
    "    data=[tweet['link'],tweet['text'],tweet['date'],tweet['stats']['likes'],tweet['stats']['comments']]\n",
    "    final_tweets.append(data)\n",
    "print(final_tweets)\n",
    "\n",
    "data=pd.DataFrame(final_tweets,columns=['link','text','date','Number of likes','Number of tweets'])\n",
    "print(data)\n"
   ]
  },
  {
   "cell_type": "code",
   "execution_count": null,
   "id": "4de839e8-7afd-4940-84a9-d68342720eb8",
   "metadata": {},
   "outputs": [],
   "source": []
  }
 ],
 "metadata": {
  "kernelspec": {
   "display_name": "Python 3 (ipykernel)",
   "language": "python",
   "name": "python3"
  },
  "language_info": {
   "codemirror_mode": {
    "name": "ipython",
    "version": 3
   },
   "file_extension": ".py",
   "mimetype": "text/x-python",
   "name": "python",
   "nbconvert_exporter": "python",
   "pygments_lexer": "ipython3",
   "version": "3.12.2"
  }
 },
 "nbformat": 4,
 "nbformat_minor": 5
}
