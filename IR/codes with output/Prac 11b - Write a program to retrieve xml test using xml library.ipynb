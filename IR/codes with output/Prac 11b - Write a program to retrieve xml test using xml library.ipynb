{
 "cells": [
  {
   "cell_type": "code",
   "execution_count": 1,
   "id": "bd37ecb7-75bd-4fd8-bff8-d6e5ea49224f",
   "metadata": {},
   "outputs": [
    {
     "name": "stdout",
     "output_type": "stream",
     "text": [
      "Name: John, Age: 30, City: New York\n",
      "Name: Alice, Age: 25, City: London\n"
     ]
    }
   ],
   "source": [
    "from lxml import etree\n",
    "\n",
    "xml_data = '''<root>\n",
    " <person>\n",
    " <name>John</name>\n",
    " <age>30</age>\n",
    " <city>New York</city>\n",
    " </person>\n",
    " <person>\n",
    " <name>Alice</name>\n",
    " <age>25</age>\n",
    " <city>London</city>\n",
    " </person>\n",
    " </root>'''\n",
    "\n",
    "tree = etree.fromstring(xml_data)\n",
    "\n",
    "for person in tree.xpath('//person'):\n",
    "    name = person.xpath('name/text()')[0]\n",
    "    age = person.xpath('age/text()')[0]\n",
    "    city = person.xpath('city/text()')[0]\n",
    "    print(f\"Name: {name}, Age: {age}, City: {city}\")\n"
   ]
  },
  {
   "cell_type": "code",
   "execution_count": null,
   "id": "6daee5d9-6bd3-435e-a1e0-d10b5c7eab69",
   "metadata": {},
   "outputs": [],
   "source": []
  }
 ],
 "metadata": {
  "kernelspec": {
   "display_name": "Python 3 (ipykernel)",
   "language": "python",
   "name": "python3"
  },
  "language_info": {
   "codemirror_mode": {
    "name": "ipython",
    "version": 3
   },
   "file_extension": ".py",
   "mimetype": "text/x-python",
   "name": "python",
   "nbconvert_exporter": "python",
   "pygments_lexer": "ipython3",
   "version": "3.12.2"
  }
 },
 "nbformat": 4,
 "nbformat_minor": 5
}
