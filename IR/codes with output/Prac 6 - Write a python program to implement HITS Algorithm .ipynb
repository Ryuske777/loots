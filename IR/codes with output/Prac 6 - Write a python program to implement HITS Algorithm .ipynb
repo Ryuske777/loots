{
 "cells": [
  {
   "cell_type": "code",
   "execution_count": 1,
   "id": "66de9971-4646-42df-9bb3-8846bddbcc05",
   "metadata": {},
   "outputs": [
    {
     "name": "stdout",
     "output_type": "stream",
     "text": [
      "Authority Scores: {1: 0.022459754211155744, 2: 0.4887701228944221, 3: 0.4887701228944221, 4: -0.0, 5: -0.0}\n",
      "Hub Scores: {1: -0.0, 2: 0.0219663943922016, 3: 0.021966394392201567, 4: 0.9560672112155968, 5: -0.0}\n"
     ]
    }
   ],
   "source": [
    "#checked and working\n",
    "#HITS Algorithm\n",
    "import networkx as nx\n",
    "# Step 2: Create a graph and add edges\n",
    "G = nx.DiGraph()\n",
    "G.add_edges_from([(1, 2), (1, 3), (2, 4), (3, 4), (4, 5)])\n",
    "\n",
    "# Step 3: Calculate the HITS scores\n",
    "authority_scores, hub_scores = nx.hits(G)\n",
    "\n",
    "# Step 4: Print the scores\n",
    "print(\"Authority Scores:\", authority_scores)\n",
    "print(\"Hub Scores:\",hub_scores)"
   ]
  },
  {
   "cell_type": "code",
   "execution_count": null,
   "id": "de0bc477-d5e9-4fc3-adad-fcf6d9e76e87",
   "metadata": {},
   "outputs": [],
   "source": []
  }
 ],
 "metadata": {
  "kernelspec": {
   "display_name": "Python 3 (ipykernel)",
   "language": "python",
   "name": "python3"
  },
  "language_info": {
   "codemirror_mode": {
    "name": "ipython",
    "version": 3
   },
   "file_extension": ".py",
   "mimetype": "text/x-python",
   "name": "python",
   "nbconvert_exporter": "python",
   "pygments_lexer": "ipython3",
   "version": "3.12.2"
  }
 },
 "nbformat": 4,
 "nbformat_minor": 5
}
