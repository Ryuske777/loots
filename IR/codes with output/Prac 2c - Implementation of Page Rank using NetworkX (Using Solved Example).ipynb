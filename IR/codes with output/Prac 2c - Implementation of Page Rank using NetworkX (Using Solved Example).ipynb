{
 "cells": [
  {
   "cell_type": "code",
   "execution_count": 3,
   "id": "1023579e-ce65-44e6-9bcf-102b6480901a",
   "metadata": {},
   "outputs": [
    {
     "name": "stdout",
     "output_type": "stream",
     "text": [
      "{'A': 0.4135120642427259, 'B': 0.33574560301074596, 'C': 0.21324233274652804, 'D': 0.037500000000000006}\n",
      "Page:A - PageRank:0.413512\n",
      "Page:B - PageRank:0.335746\n",
      "Page:C - PageRank:0.213242\n",
      "Page:D - PageRank:0.037500\n"
     ]
    }
   ],
   "source": [
    "# Checked and working\n",
    "# Method 3: page rank\n",
    "def page_rank(graph, damping_factor=0.85, max_iterations=100, tolerance=1e-6):\n",
    "    num_pages = len(graph)\n",
    "    initial_page_rank = 1.0 / num_pages\n",
    "    # Initialize page ranks\n",
    "    page_ranks = {page: initial_page_rank for page in graph}\n",
    "\n",
    "    for _ in range(max_iterations):\n",
    "        new_page_ranks = {}\n",
    "        for page in graph:\n",
    "            new_rank = (1 - damping_factor) / num_pages\n",
    "\n",
    "            for link in graph:\n",
    "                if page in graph[link]:\n",
    "                    new_rank += damping_factor * (page_ranks[link] / len(graph[link]))\n",
    "            new_page_ranks[page] = new_rank\n",
    "\n",
    "        # Check convergence - to stop the loop\n",
    "        convergence = all(abs(new_page_ranks[page] - page_ranks[page]) < tolerance for page in graph)\n",
    "        # Update page ranks\n",
    "        page_ranks = new_page_ranks\n",
    "        if convergence:\n",
    "            break\n",
    "\n",
    "    return page_ranks\n",
    "\n",
    "\n",
    "example_graph = {\n",
    "    'A': ['B', 'C'],\n",
    "    'B': ['A'],\n",
    "    'C': ['A', 'B'],\n",
    "    'D': ['B']\n",
    "}\n",
    "\n",
    "# Calculate page rank\n",
    "result = page_rank(example_graph)\n",
    "print(result)\n",
    "# Print PageRank results\n",
    "for page, rank in sorted(result.items(), key=lambda x: x[1], reverse=True):\n",
    "    print(f\"Page:{page} - PageRank:{rank:4f}\")\n",
    "\n",
    "\n",
    "\n",
    "\n",
    "\n",
    "\n",
    "\n",
    " # In this graph:\n",
    "# Page 'A' has outbound links to pages 'B' and 'C'.\n",
    "# Page 'B' has an outbound link to page 'A', and page 'C' has an outbound link to page 'B'.\n",
    "# Page 'D' has an outbound link to page 'B'.\n"
   ]
  },
  {
   "cell_type": "code",
   "execution_count": null,
   "id": "6e84930d-e2c2-483f-b97f-689c00fb8756",
   "metadata": {},
   "outputs": [],
   "source": []
  }
 ],
 "metadata": {
  "kernelspec": {
   "display_name": "Python 3 (ipykernel)",
   "language": "python",
   "name": "python3"
  },
  "language_info": {
   "codemirror_mode": {
    "name": "ipython",
    "version": 3
   },
   "file_extension": ".py",
   "mimetype": "text/x-python",
   "name": "python",
   "nbconvert_exporter": "python",
   "pygments_lexer": "ipython3",
   "version": "3.12.2"
  }
 },
 "nbformat": 4,
 "nbformat_minor": 5
}
