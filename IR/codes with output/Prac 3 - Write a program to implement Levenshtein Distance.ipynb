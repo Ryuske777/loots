{
 "cells": [
  {
   "cell_type": "code",
   "execution_count": 1,
   "id": "7170a523-47a0-4f74-9cf9-cca400d604ce",
   "metadata": {},
   "outputs": [
    {
     "name": "stdout",
     "output_type": "stream",
     "text": [
      "1\n",
      "3\n",
      "2\n",
      "2\n",
      "1\n"
     ]
    }
   ],
   "source": [
    "#checked and working\n",
    "def leven(x, y):\n",
    "    n = len(x)\n",
    "    m = len(y)\n",
    "    A = [[i+j for j in range(m+1)] for i in range(n+1)]\n",
    "    for i in range(n):\n",
    "        for j in range(m):\n",
    "            A[i+1][j+1] = min(\n",
    "                A[i][j+1] + 1,  # insert\n",
    "                A[i+1][j] + 1,  # replace\n",
    "                A[i][j] + int(x[i] != y[j])  # delete\n",
    "            )\n",
    "    return A[n][m]\n",
    "\n",
    "print(leven(\"brap\", \"rap\"))\n",
    "print(leven(\"trial\", \"try\"))\n",
    "print(leven(\"horse\", \"force\"))\n",
    "print(leven(\"abcd\", \"aecdb\"))\n",
    "print(leven(\"monkey\", \"money\"))\n"
   ]
  },
  {
   "cell_type": "code",
   "execution_count": null,
   "id": "aaff6a61-e188-4250-97c9-f419b728dcb4",
   "metadata": {},
   "outputs": [],
   "source": []
  }
 ],
 "metadata": {
  "kernelspec": {
   "display_name": "Python 3 (ipykernel)",
   "language": "python",
   "name": "python3"
  },
  "language_info": {
   "codemirror_mode": {
    "name": "ipython",
    "version": 3
   },
   "file_extension": ".py",
   "mimetype": "text/x-python",
   "name": "python",
   "nbconvert_exporter": "python",
   "pygments_lexer": "ipython3",
   "version": "3.12.2"
  }
 },
 "nbformat": 4,
 "nbformat_minor": 5
}
