{
 "cells": [
  {
   "cell_type": "code",
   "execution_count": 1,
   "id": "2fc093a1-8465-4c58-8aac-d8ec9429abe2",
   "metadata": {},
   "outputs": [
    {
     "name": "stdout",
     "output_type": "stream",
     "text": [
      "(array([[1.        , 0.57973867],\n",
      "       [0.57973867, 1.        ]]), ['d1', 'd2'])\n"
     ]
    }
   ],
   "source": [
    "#checked and working\n",
    "#Cosine Similarity\n",
    "d1 = \"Data is the new oil of digital economy\"\n",
    "d2 = \"Data is a new oil\"\n",
    "data = [d1, d2]\n",
    "from sklearn.metrics.pairwise import cosine_similarity\n",
    "from sklearn.feature_extraction.text import TfidfVectorizer\n",
    "Tfidf_vect = TfidfVectorizer()\n",
    "vector_matrix = Tfidf_vect.fit_transform(data)\n",
    "tokens = Tfidf_vect.get_feature_names_out()\n",
    "create_df=(vector_matrix.toarray(),tokens)\n",
    "cosine_similarity_matrix = cosine_similarity(vector_matrix)\n",
    "create_df = (cosine_similarity_matrix,['d1','d2'])\n",
    "print(create_df)"
   ]
  },
  {
   "cell_type": "code",
   "execution_count": null,
   "id": "56ad726e-3389-4ac6-99a0-aceb03eb06c0",
   "metadata": {},
   "outputs": [],
   "source": []
  }
 ],
 "metadata": {
  "kernelspec": {
   "display_name": "Python 3 (ipykernel)",
   "language": "python",
   "name": "python3"
  },
  "language_info": {
   "codemirror_mode": {
    "name": "ipython",
    "version": 3
   },
   "file_extension": ".py",
   "mimetype": "text/x-python",
   "name": "python",
   "nbconvert_exporter": "python",
   "pygments_lexer": "ipython3",
   "version": "3.12.2"
  }
 },
 "nbformat": 4,
 "nbformat_minor": 5
}
