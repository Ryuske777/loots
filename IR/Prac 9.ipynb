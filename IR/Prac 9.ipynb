{
 "cells": [
  {
   "cell_type": "code",
   "execution_count": 2,
   "id": "8854422b-0cd7-4f25-91e0-2502d4b27e8c",
   "metadata": {},
   "outputs": [
    {
     "name": "stdout",
     "output_type": "stream",
     "text": [
      "******************* Href link *****************************\n",
      "['/ref=nav_logo', '/customer-preferences/edit?ie=UTF8&preferencesReturnUrl=%2F&ref_=topnav_lang', 'https://www.amazon.in/ap/signin?openid.pape.max_auth_age=0&openid.return_to=https%3A%2F%2Fwww.amazon.in%2F%3F_encoding%3DUTF8%26ref_%3Dnav_ya_signin&openid.identity=http%3A%2F%2Fspecs.openid.net%2Fauth%2F2.0%2Fidentifier_select&openid.assoc_handle=inflex&openid.mode=checkid_setup&openid.claimed_id=http%3A%2F%2Fspecs.openid.net%2Fauth%2F2.0%2Fidentifier_select&openid.ns=http%3A%2F%2Fspecs.openid.net%2Fauth%2F2.0', '/gp/css/order-history?ref_=nav_orders_first', 'https://www.amazon.in/gp/cart/view.html?ref_=nav_cart', '/gp/site-directory?ref_=nav_em_js_disabled', '/fresh?ref_=nav_cs_fresh', '/minitv?ref_=nav_avod_desktop_topnav', '/b/32702023031?node=32702023031&ld=AZINSOANavDesktop_T3&ref_=nav_cs_sell_T3', '/gp/bestsellers/?ref_=nav_cs_bestsellers', '/mobile-phones/b/?ie=UTF8&node=1389401031&ref_=nav_cs_mobiles', '/deals?ref_=nav_cs_gb', '/prime?ref_=nav_cs_primelink_nonmember', '/gp/help/customer/display.html?nodeId=200507590&ref_=nav_cs_help', '/electronics/b/?ie=UTF8&node=976419031&ref_=nav_cs_electronics', '/gp/new-releases/?ref_=nav_cs_newreleases', '/Home-Kitchen/b/?ie=UTF8&node=976442031&ref_=nav_cs_home', '/gp/sva/dashboard?ref_=nav_cs_apay', '/gp/browse.html?node=6648217031&ref_=nav_cs_fashion', '/gcx/-/gfhz/?ref_=nav_cs_giftfinder', '/computers-and-accessories/b/?ie=UTF8&node=976392031&ref_=nav_cs_pc', '/Books/b/?ie=UTF8&node=976389031&ref_=nav_cs_books', '/Toys-Games/b/?ie=UTF8&node=1350380031&ref_=nav_cs_toys', '/Home-Improvement/b/?ie=UTF8&node=4286640031&ref_=nav_cs_hi', '/Car-Motorbike-Store/b/?ie=UTF8&node=4772060031&ref_=nav_cs_automotive', '/amazon-coupons/b/?_encoding=UTF8&node=10465704031&ref_=nav_cs_coupons', '/Sports/b/?ie=UTF8&node=1984443031&ref_=nav_cs_sports', '/beauty/b/?ie=UTF8&node=1355016031&ref_=nav_cs_beauty', '/gift-card-store/b/?ie=UTF8&node=3704982031&ref_=nav_cs_gc', '/Gourmet-Specialty-Foods/b/?ie=UTF8&node=2454178031&ref_=nav_cs_grocery', '/health-and-personal-care/b/?ie=UTF8&node=1350384031&ref_=nav_cs_hpc', '/video-games/b/?ie=UTF8&node=976460031&ref_=nav_cs_video_games', '/Baby/b/?ie=UTF8&node=1571274031&ref_=nav_cs_baby', '/Amazon-Custom/b/?ie=UTF8&node=32615889031&ref_=nav_cs_custom', '/Pet-Supplies/b/?ie=UTF8&node=2454181031&ref_=nav_cs_pets', '/auto-deliveries/landing?ref_=nav_cs_sns', '/Audible-Books-and-Originals/b/?ie=UTF8&node=17941593031&ref_=nav_cs_audible', '/b/?node=6637738031&ref_=nav_cs_amazonbasics', '#', '/b/?_encoding=UTF8&node=1389401031', '#', '/b?node=1374357031', '/b?node=1374357031', '/b/?node=6648217031', '/b/?node=6648217031', '/b/?node=976442031', '/b/?node=976442031', '/s?hidden-keywords=B0792KTHKK%7CB0725W7Q38%7CB0794JD9JS%7CB01J6A7FGQ%7CB0793HNP9Z%7CB0791YHVMK%7CB079QQZZJK%7CB07FRJTZ4T%7CB077454Z99%7CB06XDBNSCP%7CB07C9L72VC&ref=nb_sb_noss', '/s?hidden-keywords=B0792KTHKK%7CB0725W7Q38%7CB0794JD9JS%7CB01J6A7FGQ%7CB0793HNP9Z%7CB0791YHVMK%7CB079QQZZJK%7CB07FRJTZ4T%7CB077454Z99%7CB06XDBNSCP%7CB07C9L72VC&ref=nb_sb_noss', '/b/?node=6802110031', '/b/?node=6802110031', '/b?node=1375427031', '/b?node=1375424031', '/b?node=1375248031', '/b?ie=UTF8&node=1388921031', '/b?node=20982412031', '/b?node=1380442031', '/b?node=1380374031', '/b?node=1380510031', '/b?node=1380485031', '/b?node=12414705031', '/b?node=10894223031&ref=INALGW', '/b?node=10894223031&ref=INALGW', '/gp/history', '/gp/history', 'javascript:void(0)', 'https://www.aboutamazon.in/?utm_source=gateway&utm_medium=footer', 'https://amazon.jobs', 'https://press.aboutamazon.in/?utm_source=gateway&utm_medium=footer', 'https://www.amazon.science', 'https://www.amazon.in/gp/redirect.html/ref=footer_fb?location=http://www.facebook.com/AmazonIN&token=2075D5EAC7BB214089728E2183FD391706D41E94&6', 'https://www.amazon.in/gp/redirect.html/ref=footer_twitter?location=http://twitter.com/AmazonIN&token=A309DFBFCB1E37A808FF531934855DC817F130B6&6', 'https://www.amazon.in/gp/redirect.html?location=https://www.instagram.com/amazondotin&token=264882C912E9D005CB1D9B61F12E125D5DF9BFC7&source=standards', '/b/?node=2838698031&ld=AZINSOANavDesktopFooter_C&ref_=nav_footer_sell_C', 'https://accelerator.amazon.in/?ref_=map_1_b2b_GW_FT', 'https://brandservices.amazon.in/?ref=AOINABRLGNRFOOT&ld=AOINABRLGNRFOOT', 'https://sell.amazon.in/grow-your-business/amazon-global-selling.html?ld=AZIN_Footer_V1&ref=AZIN_Footer_V1', 'https://affiliate-program.amazon.in/?utm_campaign=assocshowcase&utm_medium=footer&utm_source=GW&ref_=footer_assoc', 'https://services.amazon.in/services/fulfilment-by-amazon/benefits.html/ref=az_footer_fba?ld=AWRGINFBAfooter', 'https://advertising.amazon.in/?ref=Amz.in', 'https://www.amazonpay.in/merchant', '/gp/help/customer/display.html?nodeId=GDFU3JS5AL6SYHRD&ref_=footer_covid', '/gp/css/homepage.html?ref_=footer_ya', '/gp/css/returns/homepage.html?ref_=footer_hy_f_4', '/gp/help/customer/display.html?nodeId=201083470&ref_=footer_swc', '/gp/browse.html?node=6967393031&ref_=footer_mobapp', '/gp/help/customer/display.html?nodeId=200507590&ref_=footer_gw_m_b_he', '/ref=footer_logo', '/customer-preferences/edit?ie=UTF8&preferencesReturnUrl=%2F&ref_=footer_lang', 'https://www.amazon.com.au/ref=footer_au', 'https://www.amazon.com.br/ref=footer_br', 'https://www.amazon.ca/ref=footer_ca', 'https://www.amazon.cn/ref=footer_cn', 'https://www.amazon.fr/ref=footer_fr', 'https://www.amazon.de/ref=footer_de', 'https://www.amazon.it/ref=footer_it', 'https://www.amazon.co.jp/ref=footer_jp', 'https://www.amazon.com.mx/ref=footer_mx', 'https://www.amazon.nl/ref=footer_nl', 'https://www.amazon.pl/ref=footer_pl', 'https://www.amazon.sg/ref=footer_sg', 'https://www.amazon.es/ref=footer_es', 'https://www.amazon.com.tr/ref=footer_tr', 'https://www.amazon.ae/ref=footer_ae', 'https://www.amazon.co.uk/ref=footer_uk', 'https://www.amazon.com/ref=footer_us', 'https://www.abebooks.com/', 'https://aws.amazon.com/what-is-cloud-computing/?sc_channel=EL&sc_campaign=IN_amazonfooter', 'https://www.audible.in/', 'https://www.imdb.com/', 'https://www.shopbop.com/', '/business?ref=footer_aingw', '/now?ref=footer_amznow', '/music/prime?ref=footer_apm', '/gp/help/customer/display.html?nodeId=200545940&ref_=footer_cou', '/gp/help/customer/display.html?nodeId=200534380&ref_=footer_privacy', '/gp/help/customer/display.html?nodeId=202075050&ref_=footer_iba']\n",
      "*******************/href_links*****************************\n",
      "****************** Image Link ****************************\n",
      "['https://m.media-amazon.com/images/G/31/social_share/amazon_logo._CB633266945_.png', 'https://m.media-amazon.com/images/G/31/gno/sprites/nav-sprite-global-1x-reorg-privacy._CB600086755_.png', 'https://m.media-amazon.com/images/I/51Id5Jjpm-L._SX1500_.jpg', 'https://images-eu.ssl-images-amazon.com/images/G/31/img19/Beauty/GW/desktop/Make-up-CC_desktop_1x._SY304_CB466075850_.jpg', 'https://images-eu.ssl-images-amazon.com/images/G/31/Gateway/Events/2018/JupiterFallBack/Jupiter_bau_PC_top_card_fashion_1x._SY304_CB484150077_.jpg', 'https://images-eu.ssl-images-amazon.com/images/G/31/Gateway/Events/2018/JupiterFallBack/Jupiter_bau_PC_top_card_home_1x._SY304_CB484150079_.jpg', 'https://images-eu.ssl-images-amazon.com/images/G/31/img19/AmazonDevices/neel/March/1X._SY304_CB469330167_.jpg', 'https://images-eu.ssl-images-amazon.com/images/G/31/Gateway/Events/2018/JupiterFallBack/Jupiter_bau_PC_top_card_groceries_1x._SY304_CB484150076_.jpg', 'https://images-eu.ssl-images-amazon.com/images/G/31/img20/CEPC/Covid19/V195588257_IN_CEPC_Contingency_Covid_GW_April20_rush_dbqc0.5x_3._SY116_CB433895198_.jpg', 'https://images-eu.ssl-images-amazon.com/images/G/31/img20/CEPC/Covid19/V195588257_IN_CEPC_Contingency_Covid_GW_April20_rush_dbqc0.5x_4._SY116_CB433895198_.jpg', 'https://images-eu.ssl-images-amazon.com/images/G/31/img20/CEPC/Covid19/V195588257_IN_CEPC_Contingency_Covid_GW_April20_rush_dbqc0.5x_1._SY116_CB433895198_.jpg', 'https://images-eu.ssl-images-amazon.com/images/G/31/img20/CEPC/Covid19/V195588257_IN_CEPC_Contingency_Covid_GW_April20_rush_dbqc0.5x_2._SY116_CB433889427_.jpg', 'https://images-eu.ssl-images-amazon.com/images/G/31/IMG20/Home/BAU/GWPC/XCM_Manual_372x232_1212890_372X232_1_bd034eee_6f06_4e0a_9967_d0e0e5f7f932_jpg_LOWER_QL10_._SY116_CB423376243_.jpg', 'https://images-eu.ssl-images-amazon.com/images/G/31/IMG20/Home/BAU/GWPC/XCM_Manual_372x232_1212890_372X232_2_64e793dc_221d_4067_8fca_2f0338879977_jpg_LOWER_QL85_._SY116_CB423376243_.jpg', 'https://images-eu.ssl-images-amazon.com/images/G/31/IMG20/Home/BAU/GWPC/XCM_Manual_372x232_1212890_372X232_3_ccc0f761_ea08_4cfb_9562_6f13e80170d8_jpg_LOWER_QL30_._SY116_CB423376243_.jpg', 'https://images-eu.ssl-images-amazon.com/images/G/31/IMG20/Home/BAU/GWPC/XCM_Manual_372x232_1212890_372X232_4_bc4e9dc4_a3aa_4aae_93fd_9723dacd805f_jpg_LOWER_QL50_._SY116_CB423376243_.jpg', 'https://images-eu.ssl-images-amazon.com/images/G/31/img20/AmazonLaunchpad/Gateway/June/dhyana_02_379_304._SY304_CB429464454_.jpg', 'https://m.media-amazon.com/images/G/31/personalization/ybh/loading-4x-gray._CB485916689_.gif']\n",
      "*******************/image_links*****************************\n",
      "Time taken in seconds:  1.0487372875213623\n"
     ]
    }
   ],
   "source": [
    "#checked and working\n",
    "import requests\n",
    "from parsel import Selector\n",
    "import time\n",
    "\n",
    "start = time.time()\n",
    "response = requests.get('https://www.amazon.in/')\n",
    "selector = Selector(response.text)\n",
    "href_links = selector.xpath('//a/@href').getall()\n",
    "image_links = selector.xpath('//img/@src').getall()\n",
    "\n",
    "print(\"******************* Href link *****************************\")\n",
    "print(href_links)\n",
    "print(\"*******************/href_links*****************************\")\n",
    "print(\"****************** Image Link ****************************\")\n",
    "print(image_links)\n",
    "print(\"*******************/image_links*****************************\")\n",
    "\n",
    "end = time.time()\n",
    "print(\"Time taken in seconds: \", (end - start))\n"
   ]
  },
  {
   "cell_type": "code",
   "execution_count": null,
   "id": "cf4da03f-36ad-4eca-b600-9c3415840d5b",
   "metadata": {},
   "outputs": [],
   "source": []
  }
 ],
 "metadata": {
  "kernelspec": {
   "display_name": "Python 3 (ipykernel)",
   "language": "python",
   "name": "python3"
  },
  "language_info": {
   "codemirror_mode": {
    "name": "ipython",
    "version": 3
   },
   "file_extension": ".py",
   "mimetype": "text/x-python",
   "name": "python",
   "nbconvert_exporter": "python",
   "pygments_lexer": "ipython3",
   "version": "3.12.2"
  }
 },
 "nbformat": 4,
 "nbformat_minor": 5
}
