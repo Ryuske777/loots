{
 "cells": [
  {
   "cell_type": "code",
   "execution_count": 1,
   "id": "3f3d9973-a8c2-4cc5-b6d1-2905b62fd9f1",
   "metadata": {},
   "outputs": [
    {
     "name": "stdout",
     "output_type": "stream",
     "text": [
      "{'A': 0.35625}\n",
      "Page:A - PageRank:0.356250\n"
     ]
    }
   ],
   "source": [
    "#checked and working\n",
    "#Method 3: page rank\n",
    "def page_rank(graph,damping_factor=0.85,max_iterations=100,tolerance=1e-6):\n",
    "    num_pages=len(graph)\n",
    "    initial_page_rank=1.0/num_pages\n",
    "    #intialize page ranks\n",
    "    page_ranks={page:initial_page_rank for page in graph}\n",
    "\n",
    "    for _ in range(max_iterations):\n",
    "        new_page_ranks={}\n",
    "        for page in graph:\n",
    "            new_rank=(1-damping_factor)/num_pages\n",
    "        \n",
    "            for link in graph:\n",
    "                if page in graph[link]:\n",
    "                    new_rank+=damping_factor*(page_ranks[link]/len(graph[link]))\n",
    "            new_page_ranks[page]=new_rank\n",
    "            \n",
    "            #check convegance-to stop the loop\n",
    "            convergence=all(abs(new_page_ranks[page]-page_ranks[page])<tolerance for page in graph)\n",
    "            #Update page ranks\n",
    "            page_ranks=new_page_ranks\n",
    "            if convergence:\n",
    "                break\n",
    "            return page_ranks\n",
    "example_graph={\n",
    "    'A':['B','C'],\n",
    "    'B':['A'],\n",
    "    'C':['A','B'],\n",
    "    'D':['B']\n",
    "}\n",
    "#Calculate page rank\n",
    "result= page_rank(example_graph)\n",
    "print(result)\n",
    "#Print PageRank results\n",
    "for page,rank in sorted(result.items(),key=lambda x:x[1],reverse=True):\n",
    "    print(f\"Page:{page} - PageRank:{rank:4f}\")\n"
   ]
  },
  {
   "cell_type": "code",
   "execution_count": null,
   "id": "85636e3d-2276-484e-b96b-4b17cc7cdbb1",
   "metadata": {},
   "outputs": [],
   "source": []
  },
  {
   "cell_type": "code",
   "execution_count": null,
   "id": "c5bd2282-d9f0-423f-b73f-516a23de6d15",
   "metadata": {},
   "outputs": [],
   "source": []
  }
 ],
 "metadata": {
  "kernelspec": {
   "display_name": "Python 3 (ipykernel)",
   "language": "python",
   "name": "python3"
  },
  "language_info": {
   "codemirror_mode": {
    "name": "ipython",
    "version": 3
   },
   "file_extension": ".py",
   "mimetype": "text/x-python",
   "name": "python",
   "nbconvert_exporter": "python",
   "pygments_lexer": "ipython3",
   "version": "3.12.2"
  }
 },
 "nbformat": 4,
 "nbformat_minor": 5
}
