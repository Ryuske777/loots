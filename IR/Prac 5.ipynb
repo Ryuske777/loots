{
 "cells": [
  {
   "cell_type": "code",
   "execution_count": 1,
   "id": "7c56d86e-0e28-48f7-8859-1e50d39205a6",
   "metadata": {},
   "outputs": [
    {
     "name": "stdout",
     "output_type": "stream",
     "text": [
      "character: h, count: 2\n",
      "character: e, count: 5\n",
      "character: l, count: 4\n",
      "character: o, count: 2\n",
      "character: w, count: 1\n",
      "character: r, count: 2\n",
      "character: d, count: 2\n",
      "character: t, count: 1\n",
      "character: i, count: 2\n",
      "character: s, count: 2\n",
      "character: a, count: 3\n",
      "character: m, count: 2\n",
      "character: p, count: 2\n",
      "character: u, count: 1\n",
      "character: c, count: 1\n",
      "character: x, count: 1\n"
     ]
    }
   ],
   "source": [
    "#checked and working\n",
    "from functools import reduce\n",
    "from collections import defaultdict\n",
    "\n",
    "def mapper(data):\n",
    "    char_count = defaultdict(int)\n",
    "    for char in data:\n",
    "        if char.isalpha():\n",
    "            char_count[char.lower()] += 1\n",
    "    return char_count.items()\n",
    "\n",
    "def reducer(counts1, counts2):\n",
    "    merged_counts = defaultdict(int)\n",
    "    for char, count in counts1:\n",
    "        merged_counts[char] += count\n",
    "    for char, count in counts2:\n",
    "        merged_counts[char] += count\n",
    "    return merged_counts.items()\n",
    "\n",
    "if __name__ == \"__main__\":\n",
    "    dataset = \"hello world! this is a map reduce example\"\n",
    "    chunks = [chunk for chunk in dataset.split()]\n",
    "    # Map step\n",
    "    mapped_results = map(mapper, chunks)\n",
    "    # Reduce step\n",
    "    final_counts = reduce(reducer, mapped_results)\n",
    "    # Print the result\n",
    "    for char, count in final_counts:\n",
    "        print(f\"character: {char}, count: {count}\")\n"
   ]
  },
  {
   "cell_type": "code",
   "execution_count": null,
   "id": "d784d731-1b1f-4563-9bee-2c34d7e855c6",
   "metadata": {},
   "outputs": [],
   "source": []
  }
 ],
 "metadata": {
  "kernelspec": {
   "display_name": "Python 3 (ipykernel)",
   "language": "python",
   "name": "python3"
  },
  "language_info": {
   "codemirror_mode": {
    "name": "ipython",
    "version": 3
   },
   "file_extension": ".py",
   "mimetype": "text/x-python",
   "name": "python",
   "nbconvert_exporter": "python",
   "pygments_lexer": "ipython3",
   "version": "3.12.2"
  }
 },
 "nbformat": 4,
 "nbformat_minor": 5
}
