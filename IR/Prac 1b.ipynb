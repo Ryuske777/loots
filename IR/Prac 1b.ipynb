{
 "cells": [
  {
   "cell_type": "code",
   "execution_count": 3,
   "id": "12353e55-2704-4cc3-bf85-30c0680635db",
   "metadata": {},
   "outputs": [
    {
     "name": "stdout",
     "output_type": "stream",
     "text": [
      "Boolean Retrieval Model Using Bitwise operations on Term Document Incidence Matrix\n",
      "This is corpus: {'this document is the second document', 'this is a document', 'an this is the third document', 'Is this is the First Document'}\n",
      "This generated data frame\n",
      "   an  document  first  is  second  the  third  this\n",
      "0   0         2      0   1       1    1      0     1\n",
      "1   0         1      0   1       0    0      0     1\n",
      "2   1         1      0   1       0    1      1     1\n",
      "3   0         1      1   2       0    1      0     1\n",
      "Query processing on term document incidence matrix \n",
      "\n",
      "1.Find all document ids for query 'this' AND 'first'\n",
      "Document ids where with 'this' AND 'first' are present are: [3] \n",
      "\n",
      "2.Find all document ids for query 'this' OR 'first'\n",
      "Document ids where either 'this' OR 'first' are present are: [0, 1, 2, 3] \n",
      "\n",
      "3.Find all document ids for query 'NOT' 'is'\n",
      "Document ids where 'is' term is not present are: [0, 1, 2] \n",
      "\n"
     ]
    }
   ],
   "source": [
    "#checked and working well\n",
    "import pandas as pd\n",
    "from sklearn.feature_extraction.text import CountVectorizer\n",
    "print(\"Boolean Retrieval Model Using Bitwise operations on Term Document Incidence Matrix\")\n",
    "corpus = {'this is a document', 'this document is the second document', \n",
    "          'an this is the third document', 'Is this is the First Document'}\n",
    "# type(corpus)\n",
    " \n",
    "print(f\"This is corpus: {corpus}\")\n",
    "vectorizer = CountVectorizer()\n",
    "x = vectorizer.fit_transform(corpus)\n",
    "df = pd.DataFrame(x.toarray(),columns=vectorizer.get_feature_names_out())\n",
    "print(\"This generated data frame\")\n",
    "print(df)\n",
    "print(\"Query processing on term document incidence matrix \\n\")\n",
    " \n",
    "# AND\n",
    "print(\"1.Find all document ids for query 'this' AND 'first'\")\n",
    "alldata = df[(df['this'] == 1) & (df['first'] == 1)]\n",
    "print(f\"Document ids where with 'this' AND 'first' are present are: {alldata.index.tolist()} \\n\")\n",
    " \n",
    "# OR\n",
    "print(\"2.Find all document ids for query 'this' OR 'first'\")\n",
    "alldata = df[(df['this'] == 1) | (df['first'] == 1)]\n",
    "print(f\"Document ids where either 'this' OR 'first' are present are: {alldata.index.tolist()} \\n\")\n",
    " \n",
    "# NOT\n",
    "print(\"3.Find all document ids for query 'NOT' 'is'\")\n",
    "alldata = df[(df['is'] == 1)]\n",
    "print(f\"Document ids where 'is' term is not present are: {alldata.index.tolist()} \\n\")\n"
   ]
  },
  {
   "cell_type": "code",
   "execution_count": null,
   "id": "e912a644-7ef0-4941-88a1-d812d078a80c",
   "metadata": {},
   "outputs": [],
   "source": []
  },
  {
   "cell_type": "code",
   "execution_count": null,
   "id": "3c76abbd-439f-40d1-9c4b-3d4420368cb6",
   "metadata": {},
   "outputs": [],
   "source": []
  }
 ],
 "metadata": {
  "kernelspec": {
   "display_name": "Python 3 (ipykernel)",
   "language": "python",
   "name": "python3"
  },
  "language_info": {
   "codemirror_mode": {
    "name": "ipython",
    "version": 3
   },
   "file_extension": ".py",
   "mimetype": "text/x-python",
   "name": "python",
   "nbconvert_exporter": "python",
   "pygments_lexer": "ipython3",
   "version": "3.12.2"
  }
 },
 "nbformat": 4,
 "nbformat_minor": 5
}
